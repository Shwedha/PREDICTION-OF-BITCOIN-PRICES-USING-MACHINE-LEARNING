{
  "cells": [
    {
      "cell_type": "markdown",
      "source": [
        "#### IMPORTING THE NECESSARY LIBRARIES:"
      ],
      "metadata": {
        "id": "TzXBh7y80tRL"
      }
    },
    {
      "cell_type": "code",
      "execution_count": 1,
      "metadata": {
        "colab": {
          "base_uri": "https://localhost:8080/"
        },
        "id": "wKM-b-n8ktIb",
        "outputId": "03f3afc8-33ac-46a2-da29-e2c3c88156c9"
      },
      "outputs": [
        {
          "output_type": "stream",
          "name": "stdout",
          "text": [
            "Looking in indexes: https://pypi.org/simple, https://us-python.pkg.dev/colab-wheels/public/simple/\n",
            "Collecting cryptocmd\n",
            "  Downloading cryptocmd-0.6.1-py3-none-any.whl (8.5 kB)\n",
            "Collecting tablib\n",
            "  Downloading tablib-3.4.0-py3-none-any.whl (45 kB)\n",
            "\u001b[2K     \u001b[90m━━━━━━━━━━━━━━━━━━━━━━━━━━━━━━━━━━━━━━━━\u001b[0m \u001b[32m45.5/45.5 kB\u001b[0m \u001b[31m2.0 MB/s\u001b[0m eta \u001b[36m0:00:00\u001b[0m\n",
            "\u001b[?25hRequirement already satisfied: requests in /usr/local/lib/python3.10/dist-packages (from cryptocmd) (2.27.1)\n",
            "Requirement already satisfied: idna<4,>=2.5 in /usr/local/lib/python3.10/dist-packages (from requests->cryptocmd) (3.4)\n",
            "Requirement already satisfied: certifi>=2017.4.17 in /usr/local/lib/python3.10/dist-packages (from requests->cryptocmd) (2022.12.7)\n",
            "Requirement already satisfied: urllib3<1.27,>=1.21.1 in /usr/local/lib/python3.10/dist-packages (from requests->cryptocmd) (1.26.15)\n",
            "Requirement already satisfied: charset-normalizer~=2.0.0 in /usr/local/lib/python3.10/dist-packages (from requests->cryptocmd) (2.0.12)\n",
            "Installing collected packages: tablib, cryptocmd\n",
            "Successfully installed cryptocmd-0.6.1 tablib-3.4.0\n"
          ]
        }
      ],
      "source": [
        "import numpy as np\n",
        "import pandas as pd\n",
        "import matplotlib.pyplot as plt\n",
        "\n",
        "!pip install cryptocmd\n",
        "from cryptocmd import CmcScraper\n",
        "\n",
        "from sklearn.preprocessing import MinMaxScaler"
      ]
    },
    {
      "cell_type": "markdown",
      "source": [
        "### IMPORTING THE DATA "
      ],
      "metadata": {
        "id": "VdQWpEs2m8FI"
      }
    },
    {
      "cell_type": "code",
      "execution_count": 2,
      "metadata": {
        "colab": {
          "base_uri": "https://localhost:8080/",
          "height": 206
        },
        "id": "5YPqsjFTktIg",
        "outputId": "f13973ae-c1c3-49b2-db63-ac56d3f1f5ae"
      },
      "outputs": [
        {
          "output_type": "execute_result",
          "data": {
            "text/plain": [
              "        Date          Open          High           Low         Close  \\\n",
              "4 2023-04-27  28428.464279  29871.546352  28402.887387  29473.786184   \n",
              "3 2023-04-28  29481.013535  29572.791693  28929.608542  29340.262498   \n",
              "2 2023-04-29  29336.567035  29452.455245  29088.042336  29248.488373   \n",
              "1 2023-04-30  29245.515512  29952.028553  29114.021236  29268.807043   \n",
              "0 2023-05-01  29227.103982  29329.936221  27680.792640  28091.568804   \n",
              "\n",
              "         Volume    Market Cap  \n",
              "4  2.715345e+10  5.705502e+11  \n",
              "3  1.754446e+10  5.679930e+11  \n",
              "2  1.066263e+10  5.662405e+11  \n",
              "1  1.465220e+10  5.666613e+11  \n",
              "0  1.865560e+10  5.439007e+11  "
            ],
            "text/html": [
              "\n",
              "  <div id=\"df-b9fd1ac9-e938-4ee4-b1b9-9129989ba236\">\n",
              "    <div class=\"colab-df-container\">\n",
              "      <div>\n",
              "<style scoped>\n",
              "    .dataframe tbody tr th:only-of-type {\n",
              "        vertical-align: middle;\n",
              "    }\n",
              "\n",
              "    .dataframe tbody tr th {\n",
              "        vertical-align: top;\n",
              "    }\n",
              "\n",
              "    .dataframe thead th {\n",
              "        text-align: right;\n",
              "    }\n",
              "</style>\n",
              "<table border=\"1\" class=\"dataframe\">\n",
              "  <thead>\n",
              "    <tr style=\"text-align: right;\">\n",
              "      <th></th>\n",
              "      <th>Date</th>\n",
              "      <th>Open</th>\n",
              "      <th>High</th>\n",
              "      <th>Low</th>\n",
              "      <th>Close</th>\n",
              "      <th>Volume</th>\n",
              "      <th>Market Cap</th>\n",
              "    </tr>\n",
              "  </thead>\n",
              "  <tbody>\n",
              "    <tr>\n",
              "      <th>4</th>\n",
              "      <td>2023-04-27</td>\n",
              "      <td>28428.464279</td>\n",
              "      <td>29871.546352</td>\n",
              "      <td>28402.887387</td>\n",
              "      <td>29473.786184</td>\n",
              "      <td>2.715345e+10</td>\n",
              "      <td>5.705502e+11</td>\n",
              "    </tr>\n",
              "    <tr>\n",
              "      <th>3</th>\n",
              "      <td>2023-04-28</td>\n",
              "      <td>29481.013535</td>\n",
              "      <td>29572.791693</td>\n",
              "      <td>28929.608542</td>\n",
              "      <td>29340.262498</td>\n",
              "      <td>1.754446e+10</td>\n",
              "      <td>5.679930e+11</td>\n",
              "    </tr>\n",
              "    <tr>\n",
              "      <th>2</th>\n",
              "      <td>2023-04-29</td>\n",
              "      <td>29336.567035</td>\n",
              "      <td>29452.455245</td>\n",
              "      <td>29088.042336</td>\n",
              "      <td>29248.488373</td>\n",
              "      <td>1.066263e+10</td>\n",
              "      <td>5.662405e+11</td>\n",
              "    </tr>\n",
              "    <tr>\n",
              "      <th>1</th>\n",
              "      <td>2023-04-30</td>\n",
              "      <td>29245.515512</td>\n",
              "      <td>29952.028553</td>\n",
              "      <td>29114.021236</td>\n",
              "      <td>29268.807043</td>\n",
              "      <td>1.465220e+10</td>\n",
              "      <td>5.666613e+11</td>\n",
              "    </tr>\n",
              "    <tr>\n",
              "      <th>0</th>\n",
              "      <td>2023-05-01</td>\n",
              "      <td>29227.103982</td>\n",
              "      <td>29329.936221</td>\n",
              "      <td>27680.792640</td>\n",
              "      <td>28091.568804</td>\n",
              "      <td>1.865560e+10</td>\n",
              "      <td>5.439007e+11</td>\n",
              "    </tr>\n",
              "  </tbody>\n",
              "</table>\n",
              "</div>\n",
              "      <button class=\"colab-df-convert\" onclick=\"convertToInteractive('df-b9fd1ac9-e938-4ee4-b1b9-9129989ba236')\"\n",
              "              title=\"Convert this dataframe to an interactive table.\"\n",
              "              style=\"display:none;\">\n",
              "        \n",
              "  <svg xmlns=\"http://www.w3.org/2000/svg\" height=\"24px\"viewBox=\"0 0 24 24\"\n",
              "       width=\"24px\">\n",
              "    <path d=\"M0 0h24v24H0V0z\" fill=\"none\"/>\n",
              "    <path d=\"M18.56 5.44l.94 2.06.94-2.06 2.06-.94-2.06-.94-.94-2.06-.94 2.06-2.06.94zm-11 1L8.5 8.5l.94-2.06 2.06-.94-2.06-.94L8.5 2.5l-.94 2.06-2.06.94zm10 10l.94 2.06.94-2.06 2.06-.94-2.06-.94-.94-2.06-.94 2.06-2.06.94z\"/><path d=\"M17.41 7.96l-1.37-1.37c-.4-.4-.92-.59-1.43-.59-.52 0-1.04.2-1.43.59L10.3 9.45l-7.72 7.72c-.78.78-.78 2.05 0 2.83L4 21.41c.39.39.9.59 1.41.59.51 0 1.02-.2 1.41-.59l7.78-7.78 2.81-2.81c.8-.78.8-2.07 0-2.86zM5.41 20L4 18.59l7.72-7.72 1.47 1.35L5.41 20z\"/>\n",
              "  </svg>\n",
              "      </button>\n",
              "      \n",
              "  <style>\n",
              "    .colab-df-container {\n",
              "      display:flex;\n",
              "      flex-wrap:wrap;\n",
              "      gap: 12px;\n",
              "    }\n",
              "\n",
              "    .colab-df-convert {\n",
              "      background-color: #E8F0FE;\n",
              "      border: none;\n",
              "      border-radius: 50%;\n",
              "      cursor: pointer;\n",
              "      display: none;\n",
              "      fill: #1967D2;\n",
              "      height: 32px;\n",
              "      padding: 0 0 0 0;\n",
              "      width: 32px;\n",
              "    }\n",
              "\n",
              "    .colab-df-convert:hover {\n",
              "      background-color: #E2EBFA;\n",
              "      box-shadow: 0px 1px 2px rgba(60, 64, 67, 0.3), 0px 1px 3px 1px rgba(60, 64, 67, 0.15);\n",
              "      fill: #174EA6;\n",
              "    }\n",
              "\n",
              "    [theme=dark] .colab-df-convert {\n",
              "      background-color: #3B4455;\n",
              "      fill: #D2E3FC;\n",
              "    }\n",
              "\n",
              "    [theme=dark] .colab-df-convert:hover {\n",
              "      background-color: #434B5C;\n",
              "      box-shadow: 0px 1px 3px 1px rgba(0, 0, 0, 0.15);\n",
              "      filter: drop-shadow(0px 1px 2px rgba(0, 0, 0, 0.3));\n",
              "      fill: #FFFFFF;\n",
              "    }\n",
              "  </style>\n",
              "\n",
              "      <script>\n",
              "        const buttonEl =\n",
              "          document.querySelector('#df-b9fd1ac9-e938-4ee4-b1b9-9129989ba236 button.colab-df-convert');\n",
              "        buttonEl.style.display =\n",
              "          google.colab.kernel.accessAllowed ? 'block' : 'none';\n",
              "\n",
              "        async function convertToInteractive(key) {\n",
              "          const element = document.querySelector('#df-b9fd1ac9-e938-4ee4-b1b9-9129989ba236');\n",
              "          const dataTable =\n",
              "            await google.colab.kernel.invokeFunction('convertToInteractive',\n",
              "                                                     [key], {});\n",
              "          if (!dataTable) return;\n",
              "\n",
              "          const docLinkHtml = 'Like what you see? Visit the ' +\n",
              "            '<a target=\"_blank\" href=https://colab.research.google.com/notebooks/data_table.ipynb>data table notebook</a>'\n",
              "            + ' to learn more about interactive tables.';\n",
              "          element.innerHTML = '';\n",
              "          dataTable['output_type'] = 'display_data';\n",
              "          await google.colab.output.renderOutput(dataTable, element);\n",
              "          const docLink = document.createElement('div');\n",
              "          docLink.innerHTML = docLinkHtml;\n",
              "          element.appendChild(docLink);\n",
              "        }\n",
              "      </script>\n",
              "    </div>\n",
              "  </div>\n",
              "  "
            ]
          },
          "metadata": {},
          "execution_count": 2
        }
      ],
      "source": [
        "scraper = CmcScraper('BTC', '01-04-2017', '01-05-2023')\n",
        "#INTO DATAFRAMES\n",
        "data = scraper.get_dataframe()\n",
        "data.sort_values(by='Date', inplace=True)\n",
        "data.tail()"
      ]
    },
    {
      "cell_type": "code",
      "source": [
        "fig, ax = plt.subplots(figsize=(12, 6))\n",
        "data_indexed = data.set_index('Date')\n",
        "\n",
        "# Plot the opening prices in blue\n",
        "ax.plot(data_indexed.index, data_indexed['Open'], color='red',linewidth = 3, label='Open')\n",
        "\n",
        "# Plot the closing prices in red\n",
        "ax.plot(data_indexed.index, data_indexed['Close'], color='pink', label='Close')\n",
        "\n",
        "# Add title and axis labels\n",
        "ax.set_title('Bitcoin Price Chart')\n",
        "ax.set_xlabel('Date')\n",
        "ax.set_ylabel('Price (USD)')\n",
        "\n",
        "# Add legend\n",
        "ax.legend()\n",
        "\n",
        "# Show the plot\n",
        "plt.show()"
      ],
      "metadata": {
        "colab": {
          "base_uri": "https://localhost:8080/",
          "height": 564
        },
        "id": "r9TIZqMm7bQA",
        "outputId": "fa34358b-4666-4429-d7fd-be68ad569dff"
      },
      "execution_count": 3,
      "outputs": [
        {
          "output_type": "display_data",
          "data": {
            "text/plain": [
              "<Figure size 1200x600 with 1 Axes>"
            ],
            "image/png": "[encoded data removed]"
          },
          "metadata": {}
        }
      ]
    },
    {
      "cell_type": "markdown",
      "source": [
        "### Spliting the data before and after pandemic"
      ],
      "metadata": {
        "id": "PnJBvzRcOYGy"
      }
    },
    {
      "cell_type": "code",
      "execution_count": 4,
      "metadata": {
        "colab": {
          "base_uri": "https://localhost:8080/",
          "height": 423
        },
        "id": "qTXcE7cmktIi",
        "outputId": "8a6ce350-e5d9-44d2-bff1-41c0b4c67aae"
      },
      "outputs": [
        {
          "output_type": "execute_result",
          "data": {
            "text/plain": [
              "           Date         Open         High          Low        Close  \\\n",
              "2221 2017-04-01  1071.709961  1091.719971  1061.089966  1080.500000   \n",
              "2220 2017-04-02  1080.609985  1107.589966  1075.449951  1102.170044   \n",
              "2219 2017-04-03  1102.949951  1151.739990  1102.949951  1143.810059   \n",
              "2218 2017-04-04  1145.520020  1156.439941  1120.520020  1133.250000   \n",
              "2217 2017-04-05  1134.140015  1135.089966  1113.630005  1124.780029   \n",
              "...         ...          ...          ...          ...          ...   \n",
              "1130 2020-03-27  6719.388974  6793.836197  6466.701806  6469.798135   \n",
              "1129 2020-03-28  6467.254046  6467.501165  6117.837749  6242.193868   \n",
              "1128 2020-03-29  6245.624627  6250.467309  5920.086018  5922.043123   \n",
              "1127 2020-03-30  5925.538489  6517.195789  5903.234347  6429.841934   \n",
              "1126 2020-03-31  6430.606528  6504.515324  6374.162171  6438.644766   \n",
              "\n",
              "            Volume    Market Cap  \n",
              "2221  2.896340e+08  1.755760e+10  \n",
              "2220  5.141870e+08  1.791192e+10  \n",
              "2219  5.804440e+08  1.859116e+10  \n",
              "2218  4.363100e+08  1.842126e+10  \n",
              "2217  4.147840e+08  1.828586e+10  \n",
              "...            ...           ...  \n",
              "1130  3.458560e+10  1.183361e+11  \n",
              "1129  3.488523e+10  1.141837e+11  \n",
              "1128  2.837369e+10  1.083385e+11  \n",
              "1127  3.710165e+10  1.176401e+11  \n",
              "1126  3.278647e+10  1.178141e+11  \n",
              "\n",
              "[1096 rows x 7 columns]"
            ],
            "text/html": [
              "\n",
              "  <div id=\"df-c0948055-0308-4481-b9f5-9ed2c00cbaa2\">\n",
              "    <div class=\"colab-df-container\">\n",
              "      <div>\n",
              "<style scoped>\n",
              "    .dataframe tbody tr th:only-of-type {\n",
              "        vertical-align: middle;\n",
              "    }\n",
              "\n",
              "    .dataframe tbody tr th {\n",
              "        vertical-align: top;\n",
              "    }\n",
              "\n",
              "    .dataframe thead th {\n",
              "        text-align: right;\n",
              "    }\n",
              "</style>\n",
              "<table border=\"1\" class=\"dataframe\">\n",
              "  <thead>\n",
              "    <tr style=\"text-align: right;\">\n",
              "      <th></th>\n",
              "      <th>Date</th>\n",
              "      <th>Open</th>\n",
              "      <th>High</th>\n",
              "      <th>Low</th>\n",
              "      <th>Close</th>\n",
              "      <th>Volume</th>\n",
              "      <th>Market Cap</th>\n",
              "    </tr>\n",
              "  </thead>\n",
              "  <tbody>\n",
              "    <tr>\n",
              "      <th>2221</th>\n",
              "      <td>2017-04-01</td>\n",
              "      <td>1071.709961</td>\n",
              "      <td>1091.719971</td>\n",
              "      <td>1061.089966</td>\n",
              "      <td>1080.500000</td>\n",
              "      <td>2.896340e+08</td>\n",
              "      <td>1.755760e+10</td>\n",
              "    </tr>\n",
              "    <tr>\n",
              "      <th>2220</th>\n",
              "      <td>2017-04-02</td>\n",
              "      <td>1080.609985</td>\n",
              "      <td>1107.589966</td>\n",
              "      <td>1075.449951</td>\n",
              "      <td>1102.170044</td>\n",
              "      <td>5.141870e+08</td>\n",
              "      <td>1.791192e+10</td>\n",
              "    </tr>\n",
              "    <tr>\n",
              "      <th>2219</th>\n",
              "      <td>2017-04-03</td>\n",
              "      <td>1102.949951</td>\n",
              "      <td>1151.739990</td>\n",
              "      <td>1102.949951</td>\n",
              "      <td>1143.810059</td>\n",
              "      <td>5.804440e+08</td>\n",
              "      <td>1.859116e+10</td>\n",
              "    </tr>\n",
              "    <tr>\n",
              "      <th>2218</th>\n",
              "      <td>2017-04-04</td>\n",
              "      <td>1145.520020</td>\n",
              "      <td>1156.439941</td>\n",
              "      <td>1120.520020</td>\n",
              "      <td>1133.250000</td>\n",
              "      <td>4.363100e+08</td>\n",
              "      <td>1.842126e+10</td>\n",
              "    </tr>\n",
              "    <tr>\n",
              "      <th>2217</th>\n",
              "      <td>2017-04-05</td>\n",
              "      <td>1134.140015</td>\n",
              "      <td>1135.089966</td>\n",
              "      <td>1113.630005</td>\n",
              "      <td>1124.780029</td>\n",
              "      <td>4.147840e+08</td>\n",
              "      <td>1.828586e+10</td>\n",
              "    </tr>\n",
              "    <tr>\n",
              "      <th>...</th>\n",
              "      <td>...</td>\n",
              "      <td>...</td>\n",
              "      <td>...</td>\n",
              "      <td>...</td>\n",
              "      <td>...</td>\n",
              "      <td>...</td>\n",
              "      <td>...</td>\n",
              "    </tr>\n",
              "    <tr>\n",
              "      <th>1130</th>\n",
              "      <td>2020-03-27</td>\n",
              "      <td>6719.388974</td>\n",
              "      <td>6793.836197</td>\n",
              "      <td>6466.701806</td>\n",
              "      <td>6469.798135</td>\n",
              "      <td>3.458560e+10</td>\n",
              "      <td>1.183361e+11</td>\n",
              "    </tr>\n",
              "    <tr>\n",
              "      <th>1129</th>\n",
              "      <td>2020-03-28</td>\n",
              "      <td>6467.254046</td>\n",
              "      <td>6467.501165</td>\n",
              "      <td>6117.837749</td>\n",
              "      <td>6242.193868</td>\n",
              "      <td>3.488523e+10</td>\n",
              "      <td>1.141837e+11</td>\n",
              "    </tr>\n",
              "    <tr>\n",
              "      <th>1128</th>\n",
              "      <td>2020-03-29</td>\n",
              "      <td>6245.624627</td>\n",
              "      <td>6250.467309</td>\n",
              "      <td>5920.086018</td>\n",
              "      <td>5922.043123</td>\n",
              "      <td>2.837369e+10</td>\n",
              "      <td>1.083385e+11</td>\n",
              "    </tr>\n",
              "    <tr>\n",
              "      <th>1127</th>\n",
              "      <td>2020-03-30</td>\n",
              "      <td>5925.538489</td>\n",
              "      <td>6517.195789</td>\n",
              "      <td>5903.234347</td>\n",
              "      <td>6429.841934</td>\n",
              "      <td>3.710165e+10</td>\n",
              "      <td>1.176401e+11</td>\n",
              "    </tr>\n",
              "    <tr>\n",
              "      <th>1126</th>\n",
              "      <td>2020-03-31</td>\n",
              "      <td>6430.606528</td>\n",
              "      <td>6504.515324</td>\n",
              "      <td>6374.162171</td>\n",
              "      <td>6438.644766</td>\n",
              "      <td>3.278647e+10</td>\n",
              "      <td>1.178141e+11</td>\n",
              "    </tr>\n",
              "  </tbody>\n",
              "</table>\n",
              "<p>1096 rows × 7 columns</p>\n",
              "</div>\n",
              "      <button class=\"colab-df-convert\" onclick=\"convertToInteractive('df-c0948055-0308-4481-b9f5-9ed2c00cbaa2')\"\n",
              "              title=\"Convert this dataframe to an interactive table.\"\n",
              "              style=\"display:none;\">\n",
              "        \n",
              "  <svg xmlns=\"http://www.w3.org/2000/svg\" height=\"24px\"viewBox=\"0 0 24 24\"\n",
              "       width=\"24px\">\n",
              "    <path d=\"M0 0h24v24H0V0z\" fill=\"none\"/>\n",
              "    <path d=\"M18.56 5.44l.94 2.06.94-2.06 2.06-.94-2.06-.94-.94-2.06-.94 2.06-2.06.94zm-11 1L8.5 8.5l.94-2.06 2.06-.94-2.06-.94L8.5 2.5l-.94 2.06-2.06.94zm10 10l.94 2.06.94-2.06 2.06-.94-2.06-.94-.94-2.06-.94 2.06-2.06.94z\"/><path d=\"M17.41 7.96l-1.37-1.37c-.4-.4-.92-.59-1.43-.59-.52 0-1.04.2-1.43.59L10.3 9.45l-7.72 7.72c-.78.78-.78 2.05 0 2.83L4 21.41c.39.39.9.59 1.41.59.51 0 1.02-.2 1.41-.59l7.78-7.78 2.81-2.81c.8-.78.8-2.07 0-2.86zM5.41 20L4 18.59l7.72-7.72 1.47 1.35L5.41 20z\"/>\n",
              "  </svg>\n",
              "      </button>\n",
              "      \n",
              "  <style>\n",
              "    .colab-df-container {\n",
              "      display:flex;\n",
              "      flex-wrap:wrap;\n",
              "      gap: 12px;\n",
              "    }\n",
              "\n",
              "    .colab-df-convert {\n",
              "      background-color: #E8F0FE;\n",
              "      border: none;\n",
              "      border-radius: 50%;\n",
              "      cursor: pointer;\n",
              "      display: none;\n",
              "      fill: #1967D2;\n",
              "      height: 32px;\n",
              "      padding: 0 0 0 0;\n",
              "      width: 32px;\n",
              "    }\n",
              "\n",
              "    .colab-df-convert:hover {\n",
              "      background-color: #E2EBFA;\n",
              "      box-shadow: 0px 1px 2px rgba(60, 64, 67, 0.3), 0px 1px 3px 1px rgba(60, 64, 67, 0.15);\n",
              "      fill: #174EA6;\n",
              "    }\n",
              "\n",
              "    [theme=dark] .colab-df-convert {\n",
              "      background-color: #3B4455;\n",
              "      fill: #D2E3FC;\n",
              "    }\n",
              "\n",
              "    [theme=dark] .colab-df-convert:hover {\n",
              "      background-color: #434B5C;\n",
              "      box-shadow: 0px 1px 3px 1px rgba(0, 0, 0, 0.15);\n",
              "      filter: drop-shadow(0px 1px 2px rgba(0, 0, 0, 0.3));\n",
              "      fill: #FFFFFF;\n",
              "    }\n",
              "  </style>\n",
              "\n",
              "      <script>\n",
              "        const buttonEl =\n",
              "          document.querySelector('#df-c0948055-0308-4481-b9f5-9ed2c00cbaa2 button.colab-df-convert');\n",
              "        buttonEl.style.display =\n",
              "          google.colab.kernel.accessAllowed ? 'block' : 'none';\n",
              "\n",
              "        async function convertToInteractive(key) {\n",
              "          const element = document.querySelector('#df-c0948055-0308-4481-b9f5-9ed2c00cbaa2');\n",
              "          const dataTable =\n",
              "            await google.colab.kernel.invokeFunction('convertToInteractive',\n",
              "                                                     [key], {});\n",
              "          if (!dataTable) return;\n",
              "\n",
              "          const docLinkHtml = 'Like what you see? Visit the ' +\n",
              "            '<a target=\"_blank\" href=https://colab.research.google.com/notebooks/data_table.ipynb>data table notebook</a>'\n",
              "            + ' to learn more about interactive tables.';\n",
              "          element.innerHTML = '';\n",
              "          dataTable['output_type'] = 'display_data';\n",
              "          await google.colab.output.renderOutput(dataTable, element);\n",
              "          const docLink = document.createElement('div');\n",
              "          docLink.innerHTML = docLinkHtml;\n",
              "          element.appendChild(docLink);\n",
              "        }\n",
              "      </script>\n",
              "    </div>\n",
              "  </div>\n",
              "  "
            ]
          },
          "metadata": {},
          "execution_count": 4
        }
      ],
      "source": [
        "# for training the model\n",
        "data_train = data[data['Date'] < '2020-04-01'].copy()\n",
        "data_train"
      ]
    },
    {
      "cell_type": "code",
      "execution_count": 5,
      "metadata": {
        "colab": {
          "base_uri": "https://localhost:8080/",
          "height": 423
        },
        "id": "qEY57yFVktIi",
        "outputId": "9382992d-fc9d-4551-fb9c-988e790521d6"
      },
      "outputs": [
        {
          "output_type": "execute_result",
          "data": {
            "text/plain": [
              "           Date          Open          High           Low         Close  \\\n",
              "1124 2020-04-02   6606.776268   7088.247324   6595.918277   6793.624596   \n",
              "1123 2020-04-03   6797.396592   7003.220784   6673.335758   6733.387391   \n",
              "1122 2020-04-04   6738.383020   6878.953518   6696.484668   6867.527316   \n",
              "1121 2020-04-05   6862.537826   6883.414143   6715.929300   6791.129441   \n",
              "1120 2020-04-06   6788.049803   7271.781153   6782.889745   7271.781153   \n",
              "...         ...           ...           ...           ...           ...   \n",
              "4    2023-04-27  28428.464279  29871.546352  28402.887387  29473.786184   \n",
              "3    2023-04-28  29481.013535  29572.791693  28929.608542  29340.262498   \n",
              "2    2023-04-29  29336.567035  29452.455245  29088.042336  29248.488373   \n",
              "1    2023-04-30  29245.515512  29952.028553  29114.021236  29268.807043   \n",
              "0    2023-05-01  29227.103982  29329.936221  27680.792640  28091.568804   \n",
              "\n",
              "            Volume    Market Cap  \n",
              "1124  4.766065e+10  1.243351e+11  \n",
              "1123  3.897650e+10  1.232441e+11  \n",
              "1122  3.318599e+10  1.257128e+11  \n",
              "1121  2.951041e+10  1.243289e+11  \n",
              "1120  4.689690e+10  1.331404e+11  \n",
              "...            ...           ...  \n",
              "4     2.715345e+10  5.705502e+11  \n",
              "3     1.754446e+10  5.679930e+11  \n",
              "2     1.066263e+10  5.662405e+11  \n",
              "1     1.465220e+10  5.666613e+11  \n",
              "0     1.865560e+10  5.439007e+11  \n",
              "\n",
              "[1125 rows x 7 columns]"
            ],
            "text/html": [
              "\n",
              "  <div id=\"df-58c2afcb-e333-4213-836f-ee7e12b59a8c\">\n",
              "    <div class=\"colab-df-container\">\n",
              "      <div>\n",
              "<style scoped>\n",
              "    .dataframe tbody tr th:only-of-type {\n",
              "        vertical-align: middle;\n",
              "    }\n",
              "\n",
              "    .dataframe tbody tr th {\n",
              "        vertical-align: top;\n",
              "    }\n",
              "\n",
              "    .dataframe thead th {\n",
              "        text-align: right;\n",
              "    }\n",
              "</style>\n",
              "<table border=\"1\" class=\"dataframe\">\n",
              "  <thead>\n",
              "    <tr style=\"text-align: right;\">\n",
              "      <th></th>\n",
              "      <th>Date</th>\n",
              "      <th>Open</th>\n",
              "      <th>High</th>\n",
              "      <th>Low</th>\n",
              "      <th>Close</th>\n",
              "      <th>Volume</th>\n",
              "      <th>Market Cap</th>\n",
              "    </tr>\n",
              "  </thead>\n",
              "  <tbody>\n",
              "    <tr>\n",
              "      <th>1124</th>\n",
              "      <td>2020-04-02</td>\n",
              "      <td>6606.776268</td>\n",
              "      <td>7088.247324</td>\n",
              "      <td>6595.918277</td>\n",
              "      <td>6793.624596</td>\n",
              "      <td>4.766065e+10</td>\n",
              "      <td>1.243351e+11</td>\n",
              "    </tr>\n",
              "    <tr>\n",
              "      <th>1123</th>\n",
              "      <td>2020-04-03</td>\n",
              "      <td>6797.396592</td>\n",
              "      <td>7003.220784</td>\n",
              "      <td>6673.335758</td>\n",
              "      <td>6733.387391</td>\n",
              "      <td>3.897650e+10</td>\n",
              "      <td>1.232441e+11</td>\n",
              "    </tr>\n",
              "    <tr>\n",
              "      <th>1122</th>\n",
              "      <td>2020-04-04</td>\n",
              "      <td>6738.383020</td>\n",
              "      <td>6878.953518</td>\n",
              "      <td>6696.484668</td>\n",
              "      <td>6867.527316</td>\n",
              "      <td>3.318599e+10</td>\n",
              "      <td>1.257128e+11</td>\n",
              "    </tr>\n",
              "    <tr>\n",
              "      <th>1121</th>\n",
              "      <td>2020-04-05</td>\n",
              "      <td>6862.537826</td>\n",
              "      <td>6883.414143</td>\n",
              "      <td>6715.929300</td>\n",
              "      <td>6791.129441</td>\n",
              "      <td>2.951041e+10</td>\n",
              "      <td>1.243289e+11</td>\n",
              "    </tr>\n",
              "    <tr>\n",
              "      <th>1120</th>\n",
              "      <td>2020-04-06</td>\n",
              "      <td>6788.049803</td>\n",
              "      <td>7271.781153</td>\n",
              "      <td>6782.889745</td>\n",
              "      <td>7271.781153</td>\n",
              "      <td>4.689690e+10</td>\n",
              "      <td>1.331404e+11</td>\n",
              "    </tr>\n",
              "    <tr>\n",
              "      <th>...</th>\n",
              "      <td>...</td>\n",
              "      <td>...</td>\n",
              "      <td>...</td>\n",
              "      <td>...</td>\n",
              "      <td>...</td>\n",
              "      <td>...</td>\n",
              "      <td>...</td>\n",
              "    </tr>\n",
              "    <tr>\n",
              "      <th>4</th>\n",
              "      <td>2023-04-27</td>\n",
              "      <td>28428.464279</td>\n",
              "      <td>29871.546352</td>\n",
              "      <td>28402.887387</td>\n",
              "      <td>29473.786184</td>\n",
              "      <td>2.715345e+10</td>\n",
              "      <td>5.705502e+11</td>\n",
              "    </tr>\n",
              "    <tr>\n",
              "      <th>3</th>\n",
              "      <td>2023-04-28</td>\n",
              "      <td>29481.013535</td>\n",
              "      <td>29572.791693</td>\n",
              "      <td>28929.608542</td>\n",
              "      <td>29340.262498</td>\n",
              "      <td>1.754446e+10</td>\n",
              "      <td>5.679930e+11</td>\n",
              "    </tr>\n",
              "    <tr>\n",
              "      <th>2</th>\n",
              "      <td>2023-04-29</td>\n",
              "      <td>29336.567035</td>\n",
              "      <td>29452.455245</td>\n",
              "      <td>29088.042336</td>\n",
              "      <td>29248.488373</td>\n",
              "      <td>1.066263e+10</td>\n",
              "      <td>5.662405e+11</td>\n",
              "    </tr>\n",
              "    <tr>\n",
              "      <th>1</th>\n",
              "      <td>2023-04-30</td>\n",
              "      <td>29245.515512</td>\n",
              "      <td>29952.028553</td>\n",
              "      <td>29114.021236</td>\n",
              "      <td>29268.807043</td>\n",
              "      <td>1.465220e+10</td>\n",
              "      <td>5.666613e+11</td>\n",
              "    </tr>\n",
              "    <tr>\n",
              "      <th>0</th>\n",
              "      <td>2023-05-01</td>\n",
              "      <td>29227.103982</td>\n",
              "      <td>29329.936221</td>\n",
              "      <td>27680.792640</td>\n",
              "      <td>28091.568804</td>\n",
              "      <td>1.865560e+10</td>\n",
              "      <td>5.439007e+11</td>\n",
              "    </tr>\n",
              "  </tbody>\n",
              "</table>\n",
              "<p>1125 rows × 7 columns</p>\n",
              "</div>\n",
              "      <button class=\"colab-df-convert\" onclick=\"convertToInteractive('df-58c2afcb-e333-4213-836f-ee7e12b59a8c')\"\n",
              "              title=\"Convert this dataframe to an interactive table.\"\n",
              "              style=\"display:none;\">\n",
              "        \n",
              "  <svg xmlns=\"http://www.w3.org/2000/svg\" height=\"24px\"viewBox=\"0 0 24 24\"\n",
              "       width=\"24px\">\n",
              "    <path d=\"M0 0h24v24H0V0z\" fill=\"none\"/>\n",
              "    <path d=\"M18.56 5.44l.94 2.06.94-2.06 2.06-.94-2.06-.94-.94-2.06-.94 2.06-2.06.94zm-11 1L8.5 8.5l.94-2.06 2.06-.94-2.06-.94L8.5 2.5l-.94 2.06-2.06.94zm10 10l.94 2.06.94-2.06 2.06-.94-2.06-.94-.94-2.06-.94 2.06-2.06.94z\"/><path d=\"M17.41 7.96l-1.37-1.37c-.4-.4-.92-.59-1.43-.59-.52 0-1.04.2-1.43.59L10.3 9.45l-7.72 7.72c-.78.78-.78 2.05 0 2.83L4 21.41c.39.39.9.59 1.41.59.51 0 1.02-.2 1.41-.59l7.78-7.78 2.81-2.81c.8-.78.8-2.07 0-2.86zM5.41 20L4 18.59l7.72-7.72 1.47 1.35L5.41 20z\"/>\n",
              "  </svg>\n",
              "      </button>\n",
              "      \n",
              "  <style>\n",
              "    .colab-df-container {\n",
              "      display:flex;\n",
              "      flex-wrap:wrap;\n",
              "      gap: 12px;\n",
              "    }\n",
              "\n",
              "    .colab-df-convert {\n",
              "      background-color: #E8F0FE;\n",
              "      border: none;\n",
              "      border-radius: 50%;\n",
              "      cursor: pointer;\n",
              "      display: none;\n",
              "      fill: #1967D2;\n",
              "      height: 32px;\n",
              "      padding: 0 0 0 0;\n",
              "      width: 32px;\n",
              "    }\n",
              "\n",
              "    .colab-df-convert:hover {\n",
              "      background-color: #E2EBFA;\n",
              "      box-shadow: 0px 1px 2px rgba(60, 64, 67, 0.3), 0px 1px 3px 1px rgba(60, 64, 67, 0.15);\n",
              "      fill: #174EA6;\n",
              "    }\n",
              "\n",
              "    [theme=dark] .colab-df-convert {\n",
              "      background-color: #3B4455;\n",
              "      fill: #D2E3FC;\n",
              "    }\n",
              "\n",
              "    [theme=dark] .colab-df-convert:hover {\n",
              "      background-color: #434B5C;\n",
              "      box-shadow: 0px 1px 3px 1px rgba(0, 0, 0, 0.15);\n",
              "      filter: drop-shadow(0px 1px 2px rgba(0, 0, 0, 0.3));\n",
              "      fill: #FFFFFF;\n",
              "    }\n",
              "  </style>\n",
              "\n",
              "      <script>\n",
              "        const buttonEl =\n",
              "          document.querySelector('#df-58c2afcb-e333-4213-836f-ee7e12b59a8c button.colab-df-convert');\n",
              "        buttonEl.style.display =\n",
              "          google.colab.kernel.accessAllowed ? 'block' : 'none';\n",
              "\n",
              "        async function convertToInteractive(key) {\n",
              "          const element = document.querySelector('#df-58c2afcb-e333-4213-836f-ee7e12b59a8c');\n",
              "          const dataTable =\n",
              "            await google.colab.kernel.invokeFunction('convertToInteractive',\n",
              "                                                     [key], {});\n",
              "          if (!dataTable) return;\n",
              "\n",
              "          const docLinkHtml = 'Like what you see? Visit the ' +\n",
              "            '<a target=\"_blank\" href=https://colab.research.google.com/notebooks/data_table.ipynb>data table notebook</a>'\n",
              "            + ' to learn more about interactive tables.';\n",
              "          element.innerHTML = '';\n",
              "          dataTable['output_type'] = 'display_data';\n",
              "          await google.colab.output.renderOutput(dataTable, element);\n",
              "          const docLink = document.createElement('div');\n",
              "          docLink.innerHTML = docLinkHtml;\n",
              "          element.appendChild(docLink);\n",
              "        }\n",
              "      </script>\n",
              "    </div>\n",
              "  </div>\n",
              "  "
            ]
          },
          "metadata": {},
          "execution_count": 5
        }
      ],
      "source": [
        "# for testing the model\n",
        "data_test = data[data['Date'] > '2020-04-01'].copy()\n",
        "data_test"
      ]
    },
    {
      "cell_type": "code",
      "execution_count": 6,
      "metadata": {
        "colab": {
          "base_uri": "https://localhost:8080/",
          "height": 206
        },
        "id": "C0Y-04wAktIj",
        "outputId": "01676874-b121-4799-cc2b-c19af51352af"
      },
      "outputs": [
        {
          "output_type": "execute_result",
          "data": {
            "text/plain": [
              "             Open         High          Low       Volume    Market Cap\n",
              "2221  1071.709961  1091.719971  1061.089966  289633984.0  1.755760e+10\n",
              "2220  1080.609985  1107.589966  1075.449951  514187008.0  1.791192e+10\n",
              "2219  1102.949951  1151.739990  1102.949951  580444032.0  1.859116e+10\n",
              "2218  1145.520020  1156.439941  1120.520020  436310016.0  1.842126e+10\n",
              "2217  1134.140015  1135.089966  1113.630005  414784000.0  1.828586e+10"
            ],
            "text/html": [
              "\n",
              "  <div id=\"df-87ed5730-8a5e-4ce5-9dc0-17d4edeb7270\">\n",
              "    <div class=\"colab-df-container\">\n",
              "      <div>\n",
              "<style scoped>\n",
              "    .dataframe tbody tr th:only-of-type {\n",
              "        vertical-align: middle;\n",
              "    }\n",
              "\n",
              "    .dataframe tbody tr th {\n",
              "        vertical-align: top;\n",
              "    }\n",
              "\n",
              "    .dataframe thead th {\n",
              "        text-align: right;\n",
              "    }\n",
              "</style>\n",
              "<table border=\"1\" class=\"dataframe\">\n",
              "  <thead>\n",
              "    <tr style=\"text-align: right;\">\n",
              "      <th></th>\n",
              "      <th>Open</th>\n",
              "      <th>High</th>\n",
              "      <th>Low</th>\n",
              "      <th>Volume</th>\n",
              "      <th>Market Cap</th>\n",
              "    </tr>\n",
              "  </thead>\n",
              "  <tbody>\n",
              "    <tr>\n",
              "      <th>2221</th>\n",
              "      <td>1071.709961</td>\n",
              "      <td>1091.719971</td>\n",
              "      <td>1061.089966</td>\n",
              "      <td>289633984.0</td>\n",
              "      <td>1.755760e+10</td>\n",
              "    </tr>\n",
              "    <tr>\n",
              "      <th>2220</th>\n",
              "      <td>1080.609985</td>\n",
              "      <td>1107.589966</td>\n",
              "      <td>1075.449951</td>\n",
              "      <td>514187008.0</td>\n",
              "      <td>1.791192e+10</td>\n",
              "    </tr>\n",
              "    <tr>\n",
              "      <th>2219</th>\n",
              "      <td>1102.949951</td>\n",
              "      <td>1151.739990</td>\n",
              "      <td>1102.949951</td>\n",
              "      <td>580444032.0</td>\n",
              "      <td>1.859116e+10</td>\n",
              "    </tr>\n",
              "    <tr>\n",
              "      <th>2218</th>\n",
              "      <td>1145.520020</td>\n",
              "      <td>1156.439941</td>\n",
              "      <td>1120.520020</td>\n",
              "      <td>436310016.0</td>\n",
              "      <td>1.842126e+10</td>\n",
              "    </tr>\n",
              "    <tr>\n",
              "      <th>2217</th>\n",
              "      <td>1134.140015</td>\n",
              "      <td>1135.089966</td>\n",
              "      <td>1113.630005</td>\n",
              "      <td>414784000.0</td>\n",
              "      <td>1.828586e+10</td>\n",
              "    </tr>\n",
              "  </tbody>\n",
              "</table>\n",
              "</div>\n",
              "      <button class=\"colab-df-convert\" onclick=\"convertToInteractive('df-87ed5730-8a5e-4ce5-9dc0-17d4edeb7270')\"\n",
              "              title=\"Convert this dataframe to an interactive table.\"\n",
              "              style=\"display:none;\">\n",
              "        \n",
              "  <svg xmlns=\"http://www.w3.org/2000/svg\" height=\"24px\"viewBox=\"0 0 24 24\"\n",
              "       width=\"24px\">\n",
              "    <path d=\"M0 0h24v24H0V0z\" fill=\"none\"/>\n",
              "    <path d=\"M18.56 5.44l.94 2.06.94-2.06 2.06-.94-2.06-.94-.94-2.06-.94 2.06-2.06.94zm-11 1L8.5 8.5l.94-2.06 2.06-.94-2.06-.94L8.5 2.5l-.94 2.06-2.06.94zm10 10l.94 2.06.94-2.06 2.06-.94-2.06-.94-.94-2.06-.94 2.06-2.06.94z\"/><path d=\"M17.41 7.96l-1.37-1.37c-.4-.4-.92-.59-1.43-.59-.52 0-1.04.2-1.43.59L10.3 9.45l-7.72 7.72c-.78.78-.78 2.05 0 2.83L4 21.41c.39.39.9.59 1.41.59.51 0 1.02-.2 1.41-.59l7.78-7.78 2.81-2.81c.8-.78.8-2.07 0-2.86zM5.41 20L4 18.59l7.72-7.72 1.47 1.35L5.41 20z\"/>\n",
              "  </svg>\n",
              "      </button>\n",
              "      \n",
              "  <style>\n",
              "    .colab-df-container {\n",
              "      display:flex;\n",
              "      flex-wrap:wrap;\n",
              "      gap: 12px;\n",
              "    }\n",
              "\n",
              "    .colab-df-convert {\n",
              "      background-color: #E8F0FE;\n",
              "      border: none;\n",
              "      border-radius: 50%;\n",
              "      cursor: pointer;\n",
              "      display: none;\n",
              "      fill: #1967D2;\n",
              "      height: 32px;\n",
              "      padding: 0 0 0 0;\n",
              "      width: 32px;\n",
              "    }\n",
              "\n",
              "    .colab-df-convert:hover {\n",
              "      background-color: #E2EBFA;\n",
              "      box-shadow: 0px 1px 2px rgba(60, 64, 67, 0.3), 0px 1px 3px 1px rgba(60, 64, 67, 0.15);\n",
              "      fill: #174EA6;\n",
              "    }\n",
              "\n",
              "    [theme=dark] .colab-df-convert {\n",
              "      background-color: #3B4455;\n",
              "      fill: #D2E3FC;\n",
              "    }\n",
              "\n",
              "    [theme=dark] .colab-df-convert:hover {\n",
              "      background-color: #434B5C;\n",
              "      box-shadow: 0px 1px 3px 1px rgba(0, 0, 0, 0.15);\n",
              "      filter: drop-shadow(0px 1px 2px rgba(0, 0, 0, 0.3));\n",
              "      fill: #FFFFFF;\n",
              "    }\n",
              "  </style>\n",
              "\n",
              "      <script>\n",
              "        const buttonEl =\n",
              "          document.querySelector('#df-87ed5730-8a5e-4ce5-9dc0-17d4edeb7270 button.colab-df-convert');\n",
              "        buttonEl.style.display =\n",
              "          google.colab.kernel.accessAllowed ? 'block' : 'none';\n",
              "\n",
              "        async function convertToInteractive(key) {\n",
              "          const element = document.querySelector('#df-87ed5730-8a5e-4ce5-9dc0-17d4edeb7270');\n",
              "          const dataTable =\n",
              "            await google.colab.kernel.invokeFunction('convertToInteractive',\n",
              "                                                     [key], {});\n",
              "          if (!dataTable) return;\n",
              "\n",
              "          const docLinkHtml = 'Like what you see? Visit the ' +\n",
              "            '<a target=\"_blank\" href=https://colab.research.google.com/notebooks/data_table.ipynb>data table notebook</a>'\n",
              "            + ' to learn more about interactive tables.';\n",
              "          element.innerHTML = '';\n",
              "          dataTable['output_type'] = 'display_data';\n",
              "          await google.colab.output.renderOutput(dataTable, element);\n",
              "          const docLink = document.createElement('div');\n",
              "          docLink.innerHTML = docLinkHtml;\n",
              "          element.appendChild(docLink);\n",
              "        }\n",
              "      </script>\n",
              "    </div>\n",
              "  </div>\n",
              "  "
            ]
          },
          "metadata": {},
          "execution_count": 6
        }
      ],
      "source": [
        "train = data_train.drop(['Date', 'Close'], axis = 1)\n",
        "train.head()"
      ]
    },
    {
      "cell_type": "code",
      "execution_count": 7,
      "metadata": {
        "colab": {
          "base_uri": "https://localhost:8080/"
        },
        "id": "Mpa5Ufr-ktIk",
        "outputId": "72c57b4f-2c08-4cba-895a-75df4becd7ea"
      },
      "outputs": [
        {
          "output_type": "execute_result",
          "data": {
            "text/plain": [
              "array([[0.00000000e+00, 0.00000000e+00, 0.00000000e+00, 1.43839236e-03,\n",
              "        0.00000000e+00],\n",
              "       [4.83589464e-04, 8.35382491e-04, 8.01651182e-04, 4.47397806e-03,\n",
              "        1.14686487e-03],\n",
              "       [1.69744817e-03, 3.15940068e-03, 2.33684826e-03, 5.36966351e-03,\n",
              "        3.34545302e-03],\n",
              "       ...,\n",
              "       [2.81128512e-01, 2.71551892e-01, 2.71255146e-01, 3.81088420e-01,\n",
              "        2.93841802e-01],\n",
              "       [2.63736393e-01, 2.85592243e-01, 2.70314396e-01, 4.99076021e-01,\n",
              "        3.23949513e-01],\n",
              "       [2.91179641e-01, 2.84924755e-01, 2.96604106e-01, 4.40741883e-01,\n",
              "        3.24512505e-01]])"
            ]
          },
          "metadata": {},
          "execution_count": 7
        }
      ],
      "source": [
        "# performing MinMaxScaler\n",
        "scaler = MinMaxScaler()\n",
        "train = scaler.fit_transform(train)\n",
        "train"
      ]
    },
    {
      "cell_type": "code",
      "execution_count": 8,
      "metadata": {
        "colab": {
          "base_uri": "https://localhost:8080/"
        },
        "id": "jc63mtfkktIl",
        "outputId": "2e615db0-b53f-49ab-fadd-278a8372e3fa"
      },
      "outputs": [
        {
          "output_type": "execute_result",
          "data": {
            "text/plain": [
              "1096"
            ]
          },
          "metadata": {},
          "execution_count": 8
        }
      ],
      "source": [
        "train.shape[0]"
      ]
    },
    {
      "cell_type": "code",
      "execution_count": 9,
      "metadata": {
        "id": "VWHGij7mktIl"
      },
      "outputs": [],
      "source": [
        "train_X = []\n",
        "train_Y = []\n",
        "\n",
        "for i in range(60, train.shape[0]):\n",
        "    train_X.append(train[i-60:i])\n",
        "    train_Y.append(train[i,0])\n",
        "\n",
        "X_train, Y_train = np.array(train_X), np.array(train_Y)"
      ]
    },
    {
      "cell_type": "code",
      "execution_count": 10,
      "metadata": {
        "colab": {
          "base_uri": "https://localhost:8080/"
        },
        "id": "XBP67t3NktIn",
        "outputId": "ed832a3e-37cf-4e39-e97a-47826394f11c"
      },
      "outputs": [
        {
          "output_type": "execute_result",
          "data": {
            "text/plain": [
              "(1036, 60, 5)"
            ]
          },
          "metadata": {},
          "execution_count": 10
        }
      ],
      "source": [
        "X_train.shape"
      ]
    },
    {
      "cell_type": "markdown",
      "metadata": {
        "id": "0e34HbzmktIo"
      },
      "source": [
        "# Building LSTM"
      ]
    },
    {
      "cell_type": "code",
      "execution_count": 11,
      "metadata": {
        "id": "7kyumlOmktIu"
      },
      "outputs": [],
      "source": [
        "from tensorflow.keras import Sequential\n",
        "from tensorflow.keras.layers import Dense, LSTM, Dropout\n",
        "\n",
        "regressor = Sequential()\n",
        "\n",
        "regressor.add(LSTM(units = 50, activation = 'relu', return_sequences = True, input_shape = (X_train.shape[1], 5)))\n",
        "regressor.add(Dropout(0.2))\n",
        "\n",
        "regressor.add(LSTM(units = 60, activation = 'relu', return_sequences = True))\n",
        "regressor.add(Dropout(0.3))\n",
        "\n",
        "regressor.add(LSTM(units = 80, activation = 'relu', return_sequences = True))\n",
        "regressor.add(Dropout(0.4))\n",
        "\n",
        "regressor.add(LSTM(units = 120, activation = 'relu'))\n",
        "regressor.add(Dropout(0.5))\n",
        "\n",
        "regressor.add(Dense(units =1))"
      ]
    },
    {
      "cell_type": "code",
      "execution_count": 12,
      "metadata": {
        "colab": {
          "base_uri": "https://localhost:8080/"
        },
        "id": "d-yJ9xPNktIu",
        "outputId": "554b2e6c-0705-44c0-a567-bbd643a7f27b"
      },
      "outputs": [
        {
          "output_type": "stream",
          "name": "stdout",
          "text": [
            "Model: \"sequential\"\n",
            "_________________________________________________________________\n",
            " Layer (type)                Output Shape              Param #   \n",
            "=================================================================\n",
            " lstm (LSTM)                 (None, 60, 50)            11200     \n",
            "                                                                 \n",
            " dropout (Dropout)           (None, 60, 50)            0         \n",
            "                                                                 \n",
            " lstm_1 (LSTM)               (None, 60, 60)            26640     \n",
            "                                                                 \n",
            " dropout_1 (Dropout)         (None, 60, 60)            0         \n",
            "                                                                 \n",
            " lstm_2 (LSTM)               (None, 60, 80)            45120     \n",
            "                                                                 \n",
            " dropout_2 (Dropout)         (None, 60, 80)            0         \n",
            "                                                                 \n",
            " lstm_3 (LSTM)               (None, 120)               96480     \n",
            "                                                                 \n",
            " dropout_3 (Dropout)         (None, 120)               0         \n",
            "                                                                 \n",
            " dense (Dense)               (None, 1)                 121       \n",
            "                                                                 \n",
            "=================================================================\n",
            "Total params: 179,561\n",
            "Trainable params: 179,561\n",
            "Non-trainable params: 0\n",
            "_________________________________________________________________\n"
          ]
        }
      ],
      "source": [
        "regressor.summary()"
      ]
    },
    {
      "cell_type": "code",
      "execution_count": 13,
      "metadata": {
        "colab": {
          "base_uri": "https://localhost:8080/"
        },
        "id": "kASeSMr6ktIw",
        "outputId": "2b09e57f-c274-4912-d9b9-0e69a533caa4"
      },
      "outputs": [
        {
          "output_type": "stream",
          "name": "stdout",
          "text": [
            "Epoch 1/20\n",
            "21/21 [==============================] - 12s 197ms/step - loss: 0.0478\n",
            "Epoch 2/20\n",
            "21/21 [==============================] - 3s 135ms/step - loss: 0.0135\n",
            "Epoch 3/20\n",
            "21/21 [==============================] - 3s 139ms/step - loss: 0.0094\n",
            "Epoch 4/20\n",
            "21/21 [==============================] - 3s 153ms/step - loss: 0.0084\n",
            "Epoch 5/20\n",
            "21/21 [==============================] - 3s 159ms/step - loss: 0.0073\n",
            "Epoch 6/20\n",
            "21/21 [==============================] - 3s 141ms/step - loss: 0.0075\n",
            "Epoch 7/20\n",
            "21/21 [==============================] - 3s 140ms/step - loss: 0.0068\n",
            "Epoch 8/20\n",
            "21/21 [==============================] - 4s 172ms/step - loss: 0.0060\n",
            "Epoch 9/20\n",
            "21/21 [==============================] - 3s 145ms/step - loss: 0.0068\n",
            "Epoch 10/20\n",
            "21/21 [==============================] - 3s 139ms/step - loss: 0.0057\n",
            "Epoch 11/20\n",
            "21/21 [==============================] - 3s 143ms/step - loss: 0.0060\n",
            "Epoch 12/20\n",
            "21/21 [==============================] - 4s 181ms/step - loss: 0.0057\n",
            "Epoch 13/20\n",
            "21/21 [==============================] - 3s 138ms/step - loss: 0.0053\n",
            "Epoch 14/20\n",
            "21/21 [==============================] - 3s 139ms/step - loss: 0.0049\n",
            "Epoch 15/20\n",
            "21/21 [==============================] - 3s 137ms/step - loss: 0.0050\n",
            "Epoch 16/20\n",
            "21/21 [==============================] - 4s 180ms/step - loss: 0.0051\n",
            "Epoch 17/20\n",
            "21/21 [==============================] - 3s 138ms/step - loss: 0.0049\n",
            "Epoch 18/20\n",
            "21/21 [==============================] - 3s 138ms/step - loss: 0.0045\n",
            "Epoch 19/20\n",
            "21/21 [==============================] - 4s 202ms/step - loss: 0.0043\n",
            "Epoch 20/20\n",
            "21/21 [==============================] - 3s 153ms/step - loss: 0.0041\n"
          ]
        },
        {
          "output_type": "execute_result",
          "data": {
            "text/plain": [
              "<keras.callbacks.History at 0x7f0a20511ba0>"
            ]
          },
          "metadata": {},
          "execution_count": 13
        }
      ],
      "source": [
        "regressor.compile(optimizer = 'adam', loss = 'mean_squared_error')\n",
        "regressor.fit(X_train, Y_train, epochs = 20, batch_size =50)"
      ]
    },
    {
      "cell_type": "markdown",
      "metadata": {
        "id": "S10JAPLXktIw"
      },
      "source": [
        " # Test Dataset"
      ]
    },
    {
      "cell_type": "code",
      "execution_count": 14,
      "metadata": {
        "colab": {
          "base_uri": "https://localhost:8080/",
          "height": 260
        },
        "id": "qgP6ZLqvktIx",
        "outputId": "f76947f8-5172-4dd5-f43a-bb0415a01bf7"
      },
      "outputs": [
        {
          "output_type": "stream",
          "name": "stderr",
          "text": [
            "<ipython-input-14-54bf48160380>:2: FutureWarning: The frame.append method is deprecated and will be removed from pandas in a future version. Use pandas.concat instead.\n",
            "  df= test_dataset.append(data_test, ignore_index = True)\n"
          ]
        },
        {
          "output_type": "execute_result",
          "data": {
            "text/plain": [
              "          Open         High          Low        Volume    Market Cap\n",
              "0  7202.551122  7212.155253  6935.269972  2.080208e+10  1.266994e+11\n",
              "1  6984.428612  7413.715099  6914.995908  2.811148e+10  1.332334e+11\n",
              "2  7345.375275  7427.385794  7309.514012  1.844427e+10  1.344425e+11\n",
              "3  7410.451694  7544.496872  7400.535561  1.972507e+10  1.344695e+11\n",
              "4  7410.452168  7781.867183  7409.293182  2.327626e+10  1.409765e+11"
            ],
            "text/html": [
              "\n",
              "  <div id=\"df-95286faf-e85a-43f3-82b7-697eeef7487a\">\n",
              "    <div class=\"colab-df-container\">\n",
              "      <div>\n",
              "<style scoped>\n",
              "    .dataframe tbody tr th:only-of-type {\n",
              "        vertical-align: middle;\n",
              "    }\n",
              "\n",
              "    .dataframe tbody tr th {\n",
              "        vertical-align: top;\n",
              "    }\n",
              "\n",
              "    .dataframe thead th {\n",
              "        text-align: right;\n",
              "    }\n",
              "</style>\n",
              "<table border=\"1\" class=\"dataframe\">\n",
              "  <thead>\n",
              "    <tr style=\"text-align: right;\">\n",
              "      <th></th>\n",
              "      <th>Open</th>\n",
              "      <th>High</th>\n",
              "      <th>Low</th>\n",
              "      <th>Volume</th>\n",
              "      <th>Market Cap</th>\n",
              "    </tr>\n",
              "  </thead>\n",
              "  <tbody>\n",
              "    <tr>\n",
              "      <th>0</th>\n",
              "      <td>7202.551122</td>\n",
              "      <td>7212.155253</td>\n",
              "      <td>6935.269972</td>\n",
              "      <td>2.080208e+10</td>\n",
              "      <td>1.266994e+11</td>\n",
              "    </tr>\n",
              "    <tr>\n",
              "      <th>1</th>\n",
              "      <td>6984.428612</td>\n",
              "      <td>7413.715099</td>\n",
              "      <td>6914.995908</td>\n",
              "      <td>2.811148e+10</td>\n",
              "      <td>1.332334e+11</td>\n",
              "    </tr>\n",
              "    <tr>\n",
              "      <th>2</th>\n",
              "      <td>7345.375275</td>\n",
              "      <td>7427.385794</td>\n",
              "      <td>7309.514012</td>\n",
              "      <td>1.844427e+10</td>\n",
              "      <td>1.344425e+11</td>\n",
              "    </tr>\n",
              "    <tr>\n",
              "      <th>3</th>\n",
              "      <td>7410.451694</td>\n",
              "      <td>7544.496872</td>\n",
              "      <td>7400.535561</td>\n",
              "      <td>1.972507e+10</td>\n",
              "      <td>1.344695e+11</td>\n",
              "    </tr>\n",
              "    <tr>\n",
              "      <th>4</th>\n",
              "      <td>7410.452168</td>\n",
              "      <td>7781.867183</td>\n",
              "      <td>7409.293182</td>\n",
              "      <td>2.327626e+10</td>\n",
              "      <td>1.409765e+11</td>\n",
              "    </tr>\n",
              "  </tbody>\n",
              "</table>\n",
              "</div>\n",
              "      <button class=\"colab-df-convert\" onclick=\"convertToInteractive('df-95286faf-e85a-43f3-82b7-697eeef7487a')\"\n",
              "              title=\"Convert this dataframe to an interactive table.\"\n",
              "              style=\"display:none;\">\n",
              "        \n",
              "  <svg xmlns=\"http://www.w3.org/2000/svg\" height=\"24px\"viewBox=\"0 0 24 24\"\n",
              "       width=\"24px\">\n",
              "    <path d=\"M0 0h24v24H0V0z\" fill=\"none\"/>\n",
              "    <path d=\"M18.56 5.44l.94 2.06.94-2.06 2.06-.94-2.06-.94-.94-2.06-.94 2.06-2.06.94zm-11 1L8.5 8.5l.94-2.06 2.06-.94-2.06-.94L8.5 2.5l-.94 2.06-2.06.94zm10 10l.94 2.06.94-2.06 2.06-.94-2.06-.94-.94-2.06-.94 2.06-2.06.94z\"/><path d=\"M17.41 7.96l-1.37-1.37c-.4-.4-.92-.59-1.43-.59-.52 0-1.04.2-1.43.59L10.3 9.45l-7.72 7.72c-.78.78-.78 2.05 0 2.83L4 21.41c.39.39.9.59 1.41.59.51 0 1.02-.2 1.41-.59l7.78-7.78 2.81-2.81c.8-.78.8-2.07 0-2.86zM5.41 20L4 18.59l7.72-7.72 1.47 1.35L5.41 20z\"/>\n",
              "  </svg>\n",
              "      </button>\n",
              "      \n",
              "  <style>\n",
              "    .colab-df-container {\n",
              "      display:flex;\n",
              "      flex-wrap:wrap;\n",
              "      gap: 12px;\n",
              "    }\n",
              "\n",
              "    .colab-df-convert {\n",
              "      background-color: #E8F0FE;\n",
              "      border: none;\n",
              "      border-radius: 50%;\n",
              "      cursor: pointer;\n",
              "      display: none;\n",
              "      fill: #1967D2;\n",
              "      height: 32px;\n",
              "      padding: 0 0 0 0;\n",
              "      width: 32px;\n",
              "    }\n",
              "\n",
              "    .colab-df-convert:hover {\n",
              "      background-color: #E2EBFA;\n",
              "      box-shadow: 0px 1px 2px rgba(60, 64, 67, 0.3), 0px 1px 3px 1px rgba(60, 64, 67, 0.15);\n",
              "      fill: #174EA6;\n",
              "    }\n",
              "\n",
              "    [theme=dark] .colab-df-convert {\n",
              "      background-color: #3B4455;\n",
              "      fill: #D2E3FC;\n",
              "    }\n",
              "\n",
              "    [theme=dark] .colab-df-convert:hover {\n",
              "      background-color: #434B5C;\n",
              "      box-shadow: 0px 1px 3px 1px rgba(0, 0, 0, 0.15);\n",
              "      filter: drop-shadow(0px 1px 2px rgba(0, 0, 0, 0.3));\n",
              "      fill: #FFFFFF;\n",
              "    }\n",
              "  </style>\n",
              "\n",
              "      <script>\n",
              "        const buttonEl =\n",
              "          document.querySelector('#df-95286faf-e85a-43f3-82b7-697eeef7487a button.colab-df-convert');\n",
              "        buttonEl.style.display =\n",
              "          google.colab.kernel.accessAllowed ? 'block' : 'none';\n",
              "\n",
              "        async function convertToInteractive(key) {\n",
              "          const element = document.querySelector('#df-95286faf-e85a-43f3-82b7-697eeef7487a');\n",
              "          const dataTable =\n",
              "            await google.colab.kernel.invokeFunction('convertToInteractive',\n",
              "                                                     [key], {});\n",
              "          if (!dataTable) return;\n",
              "\n",
              "          const docLinkHtml = 'Like what you see? Visit the ' +\n",
              "            '<a target=\"_blank\" href=https://colab.research.google.com/notebooks/data_table.ipynb>data table notebook</a>'\n",
              "            + ' to learn more about interactive tables.';\n",
              "          element.innerHTML = '';\n",
              "          dataTable['output_type'] = 'display_data';\n",
              "          await google.colab.output.renderOutput(dataTable, element);\n",
              "          const docLink = document.createElement('div');\n",
              "          docLink.innerHTML = docLinkHtml;\n",
              "          element.appendChild(docLink);\n",
              "        }\n",
              "      </script>\n",
              "    </div>\n",
              "  </div>\n",
              "  "
            ]
          },
          "metadata": {},
          "execution_count": 14
        }
      ],
      "source": [
        "test_dataset = data_train.tail(90)\n",
        "df= test_dataset.append(data_test, ignore_index = True)\n",
        "df = df.drop(['Date', 'Close'], axis = 1)\n",
        "df.head()"
      ]
    },
    {
      "cell_type": "code",
      "execution_count": 15,
      "metadata": {
        "colab": {
          "base_uri": "https://localhost:8080/"
        },
        "id": "3e4SV1aDktIx",
        "outputId": "03dd1436-e685-4035-fb28-902b43134e75"
      },
      "outputs": [
        {
          "output_type": "execute_result",
          "data": {
            "text/plain": [
              "array([[0.33312383, 0.32217429, 0.32792814, 0.2787328 , 0.35327271],\n",
              "       [0.32127198, 0.33278423, 0.32679634, 0.37754378, 0.37442227],\n",
              "       [0.34088428, 0.33350384, 0.34882045, 0.24685908, 0.37833565],\n",
              "       ...,\n",
              "       [1.53579209, 1.49288399, 1.56461437, 0.14166421, 1.77598958],\n",
              "       [1.53084474, 1.51918109, 1.56606466, 0.19559653, 1.77735159],\n",
              "       [1.52984433, 1.4864347 , 1.48605417, 0.24971589, 1.70367959]])"
            ]
          },
          "metadata": {},
          "execution_count": 15
        }
      ],
      "source": [
        "inputs = scaler.transform(df)\n",
        "inputs"
      ]
    },
    {
      "cell_type": "code",
      "execution_count": 16,
      "metadata": {
        "colab": {
          "base_uri": "https://localhost:8080/"
        },
        "id": "YxMMEUr1ktIy",
        "outputId": "55c187b3-02ae-462e-996b-90fc62311b44"
      },
      "outputs": [
        {
          "output_type": "execute_result",
          "data": {
            "text/plain": [
              "((1155, 60, 5), (1155,))"
            ]
          },
          "metadata": {},
          "execution_count": 16
        }
      ],
      "source": [
        "Xtest = []\n",
        "Ytest = []\n",
        "\n",
        "for i in range (60, inputs.shape[0]):\n",
        "    Xtest.append(inputs[i-60:i])\n",
        "    Ytest.append(inputs[i, 0])\n",
        "\n",
        "X_test, Y_test = np.array(Xtest), np.array(Ytest)\n",
        "X_test.shape, Y_test.shape"
      ]
    },
    {
      "cell_type": "code",
      "execution_count": 17,
      "metadata": {
        "colab": {
          "base_uri": "https://localhost:8080/"
        },
        "id": "oFkS_28bktIz",
        "outputId": "4352bddc-52fe-43d9-a802-263706e1eb8a"
      },
      "outputs": [
        {
          "output_type": "stream",
          "name": "stdout",
          "text": [
            "37/37 [==============================] - 2s 32ms/step\n"
          ]
        },
        {
          "output_type": "execute_result",
          "data": {
            "text/plain": [
              "(array([[0.35972595],\n",
              "        [0.35361457],\n",
              "        [0.34788433],\n",
              "        ...,\n",
              "        [1.1186378 ],\n",
              "        [1.1266127 ],\n",
              "        [1.1391139 ]], dtype=float32),\n",
              " array([0.40705919, 0.42347531, 0.41929983, ..., 1.53579209, 1.53084474,\n",
              "        1.52984433]))"
            ]
          },
          "metadata": {},
          "execution_count": 17
        }
      ],
      "source": [
        "Y_pred = regressor.predict(X_test)\n",
        "Y_pred, Y_test"
      ]
    },
    {
      "cell_type": "code",
      "execution_count": 18,
      "metadata": {
        "scrolled": true,
        "colab": {
          "base_uri": "https://localhost:8080/"
        },
        "id": "k3-JC4GwktIz",
        "outputId": "2708be47-f155-467f-ddb4-012498cbd6f2"
      },
      "outputs": [
        {
          "output_type": "execute_result",
          "data": {
            "text/plain": [
              "array([5.43357458e-05, 5.26391146e-05, 5.58253482e-05, 1.35183470e-11,\n",
              "       3.23682326e-12])"
            ]
          },
          "metadata": {},
          "execution_count": 18
        }
      ],
      "source": [
        "scaler.scale_"
      ]
    },
    {
      "cell_type": "code",
      "execution_count": 19,
      "metadata": {
        "colab": {
          "base_uri": "https://localhost:8080/"
        },
        "id": "wR1XhwizktI0",
        "outputId": "65e20dd2-b267-45c4-cf57-4a98e067dc6a"
      },
      "outputs": [
        {
          "output_type": "execute_result",
          "data": {
            "text/plain": [
              "19298.903787912797"
            ]
          },
          "metadata": {},
          "execution_count": 19
        }
      ],
      "source": [
        "scale = 1/5.18164146e-05\n",
        "scale"
      ]
    },
    {
      "cell_type": "code",
      "execution_count": 20,
      "metadata": {
        "id": "p5UNH2I1ktI0"
      },
      "outputs": [],
      "source": [
        "Y_test = Y_test*scale\n",
        "Y_pred = Y_pred*scale\n"
      ]
    },
    {
      "cell_type": "code",
      "source": [
        "Y_pred"
      ],
      "metadata": {
        "colab": {
          "base_uri": "https://localhost:8080/"
        },
        "id": "_FeAzna_Pnv0",
        "outputId": "b7bb3fcc-4993-438a-da1c-5835db8a2e13"
      },
      "execution_count": 21,
      "outputs": [
        {
          "output_type": "execute_result",
          "data": {
            "text/plain": [
              "array([[ 6942.317 ],\n",
              "       [ 6824.3735],\n",
              "       [ 6713.786 ],\n",
              "       ...,\n",
              "       [21588.484 ],\n",
              "       [21742.39  ],\n",
              "       [21983.65  ]], dtype=float32)"
            ]
          },
          "metadata": {},
          "execution_count": 21
        }
      ]
    },
    {
      "cell_type": "code",
      "execution_count": 22,
      "metadata": {
        "colab": {
          "base_uri": "https://localhost:8080/"
        },
        "id": "xQQ11kciktI1",
        "outputId": "3e2be523-dd22-49cc-f608-ab4a82604e18"
      },
      "outputs": [
        {
          "output_type": "execute_result",
          "data": {
            "text/plain": [
              "array([ 7855.79614001,  8172.60919979,  8092.02715406, ...,\n",
              "       29639.10375047, 29543.6252726 , 29524.31856736])"
            ]
          },
          "metadata": {},
          "execution_count": 22
        }
      ],
      "source": [
        "Y_test"
      ]
    },
    {
      "cell_type": "code",
      "execution_count": 23,
      "metadata": {
        "colab": {
          "base_uri": "https://localhost:8080/",
          "height": 468
        },
        "id": "uftmD9zfktI1",
        "outputId": "4e45c048-a940-448e-fda3-2ca28c266235"
      },
      "outputs": [
        {
          "output_type": "display_data",
          "data": {
            "text/plain": [
              "<Figure size 1400x500 with 1 Axes>"
            ],
            "image/png": "[encoded data removed]"
          },
          "metadata": {}
        }
      ],
      "source": [
        "plt.figure(figsize=(14,5))\n",
        "plt.plot(Y_test, color = 'red', label = 'Original Bitcoin Price')\n",
        "plt.plot(Y_pred, color = 'green', label = 'Predicted Bitcoin Price')\n",
        "plt.title('Bitcoin Price Prediction using RNN-LSTM')\n",
        "plt.xlabel('Time Frame')\n",
        "plt.ylabel('Price in USD')\n",
        "plt.legend()\n",
        "plt.show()"
      ]
    }
  ],
  "metadata": {
    "kernelspec": {
      "display_name": "Python 3",
      "language": "python",
      "name": "python3"
    },
    "language_info": {
      "codemirror_mode": {
        "name": "ipython",
        "version": 3
      },
      "file_extension": ".py",
      "mimetype": "text/x-python",
      "name": "python",
      "nbconvert_exporter": "python",
      "pygments_lexer": "ipython3",
      "version": "3.7.4"
    },
    "colab": {
      "provenance": []
    }
  },
  "nbformat": 4,
  "nbformat_minor": 0
}