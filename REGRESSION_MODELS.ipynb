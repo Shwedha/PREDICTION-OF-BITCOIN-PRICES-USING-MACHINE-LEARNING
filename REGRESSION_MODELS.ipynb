{
  "nbformat": 4,
  "nbformat_minor": 0,
  "metadata": {
    "colab": {
      "provenance": [],
      "gpuType": "T4"
    },
    "kernelspec": {
      "name": "python3",
      "display_name": "Python 3"
    },
    "language_info": {
      "name": "python"
    },
    "accelerator": "GPU",
    "gpuClass": "standard"
  },
  "cells": [
    {
      "cell_type": "code",
      "execution_count": 1,
      "metadata": {
        "colab": {
          "base_uri": "https://localhost:8080/"
        },
        "id": "xOX78GWqNQwY",
        "outputId": "e5d2905a-133c-4c13-f534-206f2f0b0419"
      },
      "outputs": [
        {
          "output_type": "stream",
          "name": "stdout",
          "text": [
            "Looking in indexes: https://pypi.org/simple, https://us-python.pkg.dev/colab-wheels/public/simple/\n",
            "Collecting cryptocmd\n",
            "  Downloading cryptocmd-0.6.1-py3-none-any.whl (8.5 kB)\n",
            "Requirement already satisfied: requests in /usr/local/lib/python3.10/dist-packages (from cryptocmd) (2.27.1)\n",
            "Collecting tablib\n",
            "  Downloading tablib-3.4.0-py3-none-any.whl (45 kB)\n",
            "\u001b[2K     \u001b[90m━━━━━━━━━━━━━━━━━━━━━━━━━━━━━━━━━━━━━━━━\u001b[0m \u001b[32m45.5/45.5 kB\u001b[0m \u001b[31m1.7 MB/s\u001b[0m eta \u001b[36m0:00:00\u001b[0m\n",
            "\u001b[?25hRequirement already satisfied: certifi>=2017.4.17 in /usr/local/lib/python3.10/dist-packages (from requests->cryptocmd) (2022.12.7)\n",
            "Requirement already satisfied: idna<4,>=2.5 in /usr/local/lib/python3.10/dist-packages (from requests->cryptocmd) (3.4)\n",
            "Requirement already satisfied: urllib3<1.27,>=1.21.1 in /usr/local/lib/python3.10/dist-packages (from requests->cryptocmd) (1.26.15)\n",
            "Requirement already satisfied: charset-normalizer~=2.0.0 in /usr/local/lib/python3.10/dist-packages (from requests->cryptocmd) (2.0.12)\n",
            "Installing collected packages: tablib, cryptocmd\n",
            "Successfully installed cryptocmd-0.6.1 tablib-3.4.0\n"
          ]
        }
      ],
      "source": [
        "#IMPORTING THE NECESSARY LIBRARIES:\n",
        "import pandas as pd\n",
        "import numpy as np\n",
        "import datetime\n",
        "!pip install cryptocmd \n",
        "from cryptocmd import CmcScraper"
      ]
    },
    {
      "cell_type": "markdown",
      "source": [
        "NOW THAT THE DATA IS CLEANED AND PREPROCESSED WE CAN PROCEED TO VISUALISATION AND PREDICTION MODELS\n"
      ],
      "metadata": {
        "id": "QvP6iNitRj0s"
      }
    },
    {
      "cell_type": "code",
      "source": [
        "# Preprocessing the data\n",
        "#IMPORTING THE DATA OF TEN YEARS \n",
        "import matplotlib.pyplot as plt\n",
        "scraper = CmcScraper('BTC', '01-04-2013', '01-05-2023')\n",
        "#CONVERTING INTO DATAFRAMES\n",
        "data = scraper.get_dataframe()\n",
        "data.sort_values(by='Date', ascending=True, inplace=True)\n",
        "\n",
        "\n",
        "pd.set_option('display.max_columns', None)\n",
        "display(data)\n",
        "pd.reset_option('display.max_columns')\n",
        "data['date'] = pd.to_datetime(data['Date'], format='%Y-%m-%d %H:%M:%S')\n",
        "data = data.loc[:, ['date', 'Open', 'Close', 'High', 'Low']]\n",
        "data = data.rename({'Open': 'open', 'Close': 'close', 'High': 'high', 'Low': 'low'}, axis=1)\n",
        "data_indexed = data.set_index('date')\n",
        "\n",
        "\n"
      ],
      "metadata": {
        "colab": {
          "base_uri": "https://localhost:8080/",
          "height": 424
        },
        "id": "3mK50s9uzp3Q",
        "outputId": "1071bdcc-20a6-4851-e87c-2c17650d5198"
      },
      "execution_count": 2,
      "outputs": [
        {
          "output_type": "display_data",
          "data": {
            "text/plain": [
              "           Date          Open          High           Low         Close  \\\n",
              "3655 2013-04-28    135.300003    135.979996    132.100006    134.210007   \n",
              "3654 2013-04-29    134.444000    147.488007    134.000000    144.539993   \n",
              "3653 2013-04-30    144.000000    146.929993    134.050003    139.000000   \n",
              "3652 2013-05-01    139.000000    139.889999    107.720001    116.989998   \n",
              "3651 2013-05-02    116.379997    125.599998     92.281898    105.209999   \n",
              "...         ...           ...           ...           ...           ...   \n",
              "4    2023-04-27  28428.464279  29871.546352  28402.887387  29473.786184   \n",
              "3    2023-04-28  29481.013535  29572.791693  28929.608542  29340.262498   \n",
              "2    2023-04-29  29336.567035  29452.455245  29088.042336  29248.488373   \n",
              "1    2023-04-30  29245.515512  29952.028553  29114.021236  29268.807043   \n",
              "0    2023-05-01  29227.103982  29329.936221  27680.792640  28091.568804   \n",
              "\n",
              "            Volume    Market Cap  \n",
              "3655  0.000000e+00  1.488567e+09  \n",
              "3654  0.000000e+00  1.603769e+09  \n",
              "3653  0.000000e+00  1.542813e+09  \n",
              "3652  0.000000e+00  1.298955e+09  \n",
              "3651  0.000000e+00  1.168517e+09  \n",
              "...            ...           ...  \n",
              "4     2.715345e+10  5.705502e+11  \n",
              "3     1.754446e+10  5.679930e+11  \n",
              "2     1.066263e+10  5.662405e+11  \n",
              "1     1.465220e+10  5.666613e+11  \n",
              "0     1.865560e+10  5.439007e+11  \n",
              "\n",
              "[3656 rows x 7 columns]"
            ],
            "text/html": [
              "\n",
              "  <div id=\"df-13b66889-e0fd-4b86-80bc-ed7b4863632a\">\n",
              "    <div class=\"colab-df-container\">\n",
              "      <div>\n",
              "<style scoped>\n",
              "    .dataframe tbody tr th:only-of-type {\n",
              "        vertical-align: middle;\n",
              "    }\n",
              "\n",
              "    .dataframe tbody tr th {\n",
              "        vertical-align: top;\n",
              "    }\n",
              "\n",
              "    .dataframe thead th {\n",
              "        text-align: right;\n",
              "    }\n",
              "</style>\n",
              "<table border=\"1\" class=\"dataframe\">\n",
              "  <thead>\n",
              "    <tr style=\"text-align: right;\">\n",
              "      <th></th>\n",
              "      <th>Date</th>\n",
              "      <th>Open</th>\n",
              "      <th>High</th>\n",
              "      <th>Low</th>\n",
              "      <th>Close</th>\n",
              "      <th>Volume</th>\n",
              "      <th>Market Cap</th>\n",
              "    </tr>\n",
              "  </thead>\n",
              "  <tbody>\n",
              "    <tr>\n",
              "      <th>3655</th>\n",
              "      <td>2013-04-28</td>\n",
              "      <td>135.300003</td>\n",
              "      <td>135.979996</td>\n",
              "      <td>132.100006</td>\n",
              "      <td>134.210007</td>\n",
              "      <td>0.000000e+00</td>\n",
              "      <td>1.488567e+09</td>\n",
              "    </tr>\n",
              "    <tr>\n",
              "      <th>3654</th>\n",
              "      <td>2013-04-29</td>\n",
              "      <td>134.444000</td>\n",
              "      <td>147.488007</td>\n",
              "      <td>134.000000</td>\n",
              "      <td>144.539993</td>\n",
              "      <td>0.000000e+00</td>\n",
              "      <td>1.603769e+09</td>\n",
              "    </tr>\n",
              "    <tr>\n",
              "      <th>3653</th>\n",
              "      <td>2013-04-30</td>\n",
              "      <td>144.000000</td>\n",
              "      <td>146.929993</td>\n",
              "      <td>134.050003</td>\n",
              "      <td>139.000000</td>\n",
              "      <td>0.000000e+00</td>\n",
              "      <td>1.542813e+09</td>\n",
              "    </tr>\n",
              "    <tr>\n",
              "      <th>3652</th>\n",
              "      <td>2013-05-01</td>\n",
              "      <td>139.000000</td>\n",
              "      <td>139.889999</td>\n",
              "      <td>107.720001</td>\n",
              "      <td>116.989998</td>\n",
              "      <td>0.000000e+00</td>\n",
              "      <td>1.298955e+09</td>\n",
              "    </tr>\n",
              "    <tr>\n",
              "      <th>3651</th>\n",
              "      <td>2013-05-02</td>\n",
              "      <td>116.379997</td>\n",
              "      <td>125.599998</td>\n",
              "      <td>92.281898</td>\n",
              "      <td>105.209999</td>\n",
              "      <td>0.000000e+00</td>\n",
              "      <td>1.168517e+09</td>\n",
              "    </tr>\n",
              "    <tr>\n",
              "      <th>...</th>\n",
              "      <td>...</td>\n",
              "      <td>...</td>\n",
              "      <td>...</td>\n",
              "      <td>...</td>\n",
              "      <td>...</td>\n",
              "      <td>...</td>\n",
              "      <td>...</td>\n",
              "    </tr>\n",
              "    <tr>\n",
              "      <th>4</th>\n",
              "      <td>2023-04-27</td>\n",
              "      <td>28428.464279</td>\n",
              "      <td>29871.546352</td>\n",
              "      <td>28402.887387</td>\n",
              "      <td>29473.786184</td>\n",
              "      <td>2.715345e+10</td>\n",
              "      <td>5.705502e+11</td>\n",
              "    </tr>\n",
              "    <tr>\n",
              "      <th>3</th>\n",
              "      <td>2023-04-28</td>\n",
              "      <td>29481.013535</td>\n",
              "      <td>29572.791693</td>\n",
              "      <td>28929.608542</td>\n",
              "      <td>29340.262498</td>\n",
              "      <td>1.754446e+10</td>\n",
              "      <td>5.679930e+11</td>\n",
              "    </tr>\n",
              "    <tr>\n",
              "      <th>2</th>\n",
              "      <td>2023-04-29</td>\n",
              "      <td>29336.567035</td>\n",
              "      <td>29452.455245</td>\n",
              "      <td>29088.042336</td>\n",
              "      <td>29248.488373</td>\n",
              "      <td>1.066263e+10</td>\n",
              "      <td>5.662405e+11</td>\n",
              "    </tr>\n",
              "    <tr>\n",
              "      <th>1</th>\n",
              "      <td>2023-04-30</td>\n",
              "      <td>29245.515512</td>\n",
              "      <td>29952.028553</td>\n",
              "      <td>29114.021236</td>\n",
              "      <td>29268.807043</td>\n",
              "      <td>1.465220e+10</td>\n",
              "      <td>5.666613e+11</td>\n",
              "    </tr>\n",
              "    <tr>\n",
              "      <th>0</th>\n",
              "      <td>2023-05-01</td>\n",
              "      <td>29227.103982</td>\n",
              "      <td>29329.936221</td>\n",
              "      <td>27680.792640</td>\n",
              "      <td>28091.568804</td>\n",
              "      <td>1.865560e+10</td>\n",
              "      <td>5.439007e+11</td>\n",
              "    </tr>\n",
              "  </tbody>\n",
              "</table>\n",
              "<p>3656 rows × 7 columns</p>\n",
              "</div>\n",
              "      <button class=\"colab-df-convert\" onclick=\"convertToInteractive('df-13b66889-e0fd-4b86-80bc-ed7b4863632a')\"\n",
              "              title=\"Convert this dataframe to an interactive table.\"\n",
              "              style=\"display:none;\">\n",
              "        \n",
              "  <svg xmlns=\"http://www.w3.org/2000/svg\" height=\"24px\"viewBox=\"0 0 24 24\"\n",
              "       width=\"24px\">\n",
              "    <path d=\"M0 0h24v24H0V0z\" fill=\"none\"/>\n",
              "    <path d=\"M18.56 5.44l.94 2.06.94-2.06 2.06-.94-2.06-.94-.94-2.06-.94 2.06-2.06.94zm-11 1L8.5 8.5l.94-2.06 2.06-.94-2.06-.94L8.5 2.5l-.94 2.06-2.06.94zm10 10l.94 2.06.94-2.06 2.06-.94-2.06-.94-.94-2.06-.94 2.06-2.06.94z\"/><path d=\"M17.41 7.96l-1.37-1.37c-.4-.4-.92-.59-1.43-.59-.52 0-1.04.2-1.43.59L10.3 9.45l-7.72 7.72c-.78.78-.78 2.05 0 2.83L4 21.41c.39.39.9.59 1.41.59.51 0 1.02-.2 1.41-.59l7.78-7.78 2.81-2.81c.8-.78.8-2.07 0-2.86zM5.41 20L4 18.59l7.72-7.72 1.47 1.35L5.41 20z\"/>\n",
              "  </svg>\n",
              "      </button>\n",
              "      \n",
              "  <style>\n",
              "    .colab-df-container {\n",
              "      display:flex;\n",
              "      flex-wrap:wrap;\n",
              "      gap: 12px;\n",
              "    }\n",
              "\n",
              "    .colab-df-convert {\n",
              "      background-color: #E8F0FE;\n",
              "      border: none;\n",
              "      border-radius: 50%;\n",
              "      cursor: pointer;\n",
              "      display: none;\n",
              "      fill: #1967D2;\n",
              "      height: 32px;\n",
              "      padding: 0 0 0 0;\n",
              "      width: 32px;\n",
              "    }\n",
              "\n",
              "    .colab-df-convert:hover {\n",
              "      background-color: #E2EBFA;\n",
              "      box-shadow: 0px 1px 2px rgba(60, 64, 67, 0.3), 0px 1px 3px 1px rgba(60, 64, 67, 0.15);\n",
              "      fill: #174EA6;\n",
              "    }\n",
              "\n",
              "    [theme=dark] .colab-df-convert {\n",
              "      background-color: #3B4455;\n",
              "      fill: #D2E3FC;\n",
              "    }\n",
              "\n",
              "    [theme=dark] .colab-df-convert:hover {\n",
              "      background-color: #434B5C;\n",
              "      box-shadow: 0px 1px 3px 1px rgba(0, 0, 0, 0.15);\n",
              "      filter: drop-shadow(0px 1px 2px rgba(0, 0, 0, 0.3));\n",
              "      fill: #FFFFFF;\n",
              "    }\n",
              "  </style>\n",
              "\n",
              "      <script>\n",
              "        const buttonEl =\n",
              "          document.querySelector('#df-13b66889-e0fd-4b86-80bc-ed7b4863632a button.colab-df-convert');\n",
              "        buttonEl.style.display =\n",
              "          google.colab.kernel.accessAllowed ? 'block' : 'none';\n",
              "\n",
              "        async function convertToInteractive(key) {\n",
              "          const element = document.querySelector('#df-13b66889-e0fd-4b86-80bc-ed7b4863632a');\n",
              "          const dataTable =\n",
              "            await google.colab.kernel.invokeFunction('convertToInteractive',\n",
              "                                                     [key], {});\n",
              "          if (!dataTable) return;\n",
              "\n",
              "          const docLinkHtml = 'Like what you see? Visit the ' +\n",
              "            '<a target=\"_blank\" href=https://colab.research.google.com/notebooks/data_table.ipynb>data table notebook</a>'\n",
              "            + ' to learn more about interactive tables.';\n",
              "          element.innerHTML = '';\n",
              "          dataTable['output_type'] = 'display_data';\n",
              "          await google.colab.output.renderOutput(dataTable, element);\n",
              "          const docLink = document.createElement('div');\n",
              "          docLink.innerHTML = docLinkHtml;\n",
              "          element.appendChild(docLink);\n",
              "        }\n",
              "      </script>\n",
              "    </div>\n",
              "  </div>\n",
              "  "
            ]
          },
          "metadata": {}
        }
      ]
    },
    {
      "cell_type": "code",
      "source": [
        "fig, ax = plt.subplots(figsize=(12, 6))\n",
        "\n",
        "# Plot the opening prices in blue\n",
        "ax.plot(data_indexed.index, data_indexed['open'], color='purple',linewidth = 4, label='Open')\n",
        "\n",
        "# Plot the closing prices in red\n",
        "ax.plot(data_indexed.index, data_indexed['close'], color='lightblue', label='Close')\n",
        "\n",
        "# Add title and axis labels\n",
        "ax.set_title('Bitcoin Price Chart')\n",
        "ax.set_xlabel('Date')\n",
        "ax.set_ylabel('Price (USD)')\n",
        "\n",
        "# Add legend\n",
        "ax.legend()\n",
        "\n",
        "# Show the plot\n",
        "plt.show()\n",
        "\n",
        "\n",
        "\n",
        "\n",
        "\n",
        "\n",
        "\n"
      ],
      "metadata": {
        "colab": {
          "base_uri": "https://localhost:8080/",
          "height": 564
        },
        "id": "SluQWT8aJBF-",
        "outputId": "25a36bd5-a935-4d17-d4f3-27f6ada7c6f3"
      },
      "execution_count": 3,
      "outputs": [
        {
          "output_type": "display_data",
          "data": {
            "text/plain": [
              "<Figure size 1200x600 with 1 Axes>"
            ],
            "image/png": "[encoded data removed]"
          },
          "metadata": {}
        }
      ]
    },
    {
      "cell_type": "markdown",
      "source": [
        "RANDOM FOREST:"
      ],
      "metadata": {
        "id": "TFhlg3WTNR6J"
      }
    },
    {
      "cell_type": "code",
      "source": [
        "shifted_rows = 100\n",
        "df = data_indexed\n",
        "df['prediction'] = df[['close']].shift(-shifted_rows)\n",
        "print(df['prediction'])"
      ],
      "metadata": {
        "colab": {
          "base_uri": "https://localhost:8080/"
        },
        "id": "xie-hU6jMT9r",
        "outputId": "5381d252-9e4d-442f-e629-eca0c5d89781"
      },
      "execution_count": 4,
      "outputs": [
        {
          "output_type": "stream",
          "name": "stdout",
          "text": [
            "date\n",
            "2013-04-28    106.750000\n",
            "2013-04-29    106.750000\n",
            "2013-04-30    103.000000\n",
            "2013-05-01    102.800003\n",
            "2013-05-02    103.000000\n",
            "                 ...    \n",
            "2023-04-27           NaN\n",
            "2023-04-28           NaN\n",
            "2023-04-29           NaN\n",
            "2023-04-30           NaN\n",
            "2023-05-01           NaN\n",
            "Name: prediction, Length: 3656, dtype: float64\n"
          ]
        }
      ]
    },
    {
      "cell_type": "code",
      "source": [
        "training_data = np.array(df[['close']][:-shifted_rows])\n",
        "print(training_data)\n",
        "\n",
        "\n",
        "y = (df['prediction'].values)[:-shifted_rows]\n",
        "print(y)"
      ],
      "metadata": {
        "colab": {
          "base_uri": "https://localhost:8080/"
        },
        "id": "lnCWDHyCidxF",
        "outputId": "a233c942-a758-421d-831b-fd93f1705272"
      },
      "execution_count": 5,
      "outputs": [
        {
          "output_type": "stream",
          "name": "stdout",
          "text": [
            "[[  134.21000671]\n",
            " [  144.53999329]\n",
            " [  139.        ]\n",
            " ...\n",
            " [21086.79330484]\n",
            " [22676.55175889]\n",
            " [22777.62580913]]\n",
            "[  106.75         106.75         103.         ... 29248.48837292\n",
            " 29268.80704316 28091.56880389]\n"
          ]
        }
      ]
    },
    {
      "cell_type": "code",
      "source": [
        "\n",
        "# Train and evaluate models\n",
        "models = [\n",
        "    (\"Linear Regression\", LinearRegression()),\n",
        "    (\"Ridge Regression\", Ridge()),\n",
        "    (\"Lasso Regression\", Lasso()),\n",
        "    (\"Random Forest\", RandomForestRegressor()),\n",
        "    (\"Support Vector Machine\", SVR()),\n",
        "    (\"Multi-layer Perceptron\", MLPRegressor())\n",
        "]\n",
        "\n",
        "for name, model in models:\n",
        "    model.fit(X_train, y_train)\n",
        "    y_pred = model.predict(X_test)\n",
        "    r2 = r2_score(y_test, y_pred)\n",
        "    mse = mean_squared_error(y_test, y_pred)\n",
        "    mae = mean_absolute_error(y_test, y_pred)\n",
        "    print(f\"{name}: R^2={r2:.4f}, MSE={mse:.4f}, MAE={mae:.4f}\")"
      ],
      "metadata": {
        "id": "UPvCIBCdOpf9",
        "colab": {
          "base_uri": "https://localhost:8080/",
          "height": 235
        },
        "outputId": "76a0398e-168e-4fb9-e94c-e8cf38aeae24"
      },
      "execution_count": 6,
      "outputs": [
        {
          "output_type": "error",
          "ename": "NameError",
          "evalue": "ignored",
          "traceback": [
            "\u001b[0;31m---------------------------------------------------------------------------\u001b[0m",
            "\u001b[0;31mNameError\u001b[0m                                 Traceback (most recent call last)",
            "\u001b[0;32m<ipython-input-6-691efb3264f2>\u001b[0m in \u001b[0;36m<cell line: 3>\u001b[0;34m()\u001b[0m\n\u001b[1;32m      1\u001b[0m \u001b[0;31m# Train and evaluate models\u001b[0m\u001b[0;34m\u001b[0m\u001b[0;34m\u001b[0m\u001b[0m\n\u001b[1;32m      2\u001b[0m models = [\n\u001b[0;32m----> 3\u001b[0;31m     \u001b[0;34m(\u001b[0m\u001b[0;34m\"Linear Regression\"\u001b[0m\u001b[0;34m,\u001b[0m \u001b[0mLinearRegression\u001b[0m\u001b[0;34m(\u001b[0m\u001b[0;34m)\u001b[0m\u001b[0;34m)\u001b[0m\u001b[0;34m,\u001b[0m\u001b[0;34m\u001b[0m\u001b[0;34m\u001b[0m\u001b[0m\n\u001b[0m\u001b[1;32m      4\u001b[0m     \u001b[0;34m(\u001b[0m\u001b[0;34m\"Ridge Regression\"\u001b[0m\u001b[0;34m,\u001b[0m \u001b[0mRidge\u001b[0m\u001b[0;34m(\u001b[0m\u001b[0;34m)\u001b[0m\u001b[0;34m)\u001b[0m\u001b[0;34m,\u001b[0m\u001b[0;34m\u001b[0m\u001b[0;34m\u001b[0m\u001b[0m\n\u001b[1;32m      5\u001b[0m     \u001b[0;34m(\u001b[0m\u001b[0;34m\"Lasso Regression\"\u001b[0m\u001b[0;34m,\u001b[0m \u001b[0mLasso\u001b[0m\u001b[0;34m(\u001b[0m\u001b[0;34m)\u001b[0m\u001b[0;34m)\u001b[0m\u001b[0;34m,\u001b[0m\u001b[0;34m\u001b[0m\u001b[0;34m\u001b[0m\u001b[0m\n",
            "\u001b[0;31mNameError\u001b[0m: name 'LinearRegression' is not defined"
          ]
        }
      ]
    },
    {
      "cell_type": "code",
      "source": [
        "from sklearn.ensemble import RandomForestRegressor\n",
        "from sklearn.model_selection import train_test_split\n",
        "x_train, x_test, y_train, y_test = train_test_split(training_data,y,test_size = 20)"
      ],
      "metadata": {
        "id": "BF4a-vxTjaF4"
      },
      "execution_count": null,
      "outputs": []
    },
    {
      "cell_type": "code",
      "source": [
        "#LINEAR REGRESSION:\n",
        "from sklearn.linear_model import LinearRegression\n",
        "\n",
        "# Create a linear regression object\n",
        "rf = RandomForestRegressor()\n",
        "lr = LinearRegression()\n",
        "rf.fit(x_train,y_train)\n",
        "lr.fit(x_train,y_train)\n",
        "rf_conf = rf.score(x_test,y_test)\n",
        "lr_conf = lr.score(x_test,y_test)\n",
        "print(lr_conf)\n",
        "print(rf_conf)"
      ],
      "metadata": {
        "id": "S01vqMuZkSkI"
      },
      "execution_count": null,
      "outputs": []
    },
    {
      "cell_type": "code",
      "source": [],
      "metadata": {
        "id": "RQ5crr85XMB9"
      },
      "execution_count": null,
      "outputs": []
    },
    {
      "cell_type": "code",
      "source": [
        "future_values = np.array(df[['close']][-shifted_rows:])\n",
        "lr_pred = lr.predict(future_values)\n",
        "rf_pred = rf.predict(future_values)"
      ],
      "metadata": {
        "id": "_vDbDTZUlHuK"
      },
      "execution_count": null,
      "outputs": []
    },
    {
      "cell_type": "code",
      "source": [
        "r2 = r2_score(y_test, y_pred)\n",
        "mse = mean_squared_error(y_test, y_pred)\n",
        "mae = mean_absolute_error(y_test, y_pred)\n",
        "print(f\"{name}: R^2={r2:.4f}, MSE={mse:.4f}, MAE={mae:.4f}\")"
      ],
      "metadata": {
        "id": "D00ky4-zRoSp"
      },
      "execution_count": null,
      "outputs": []
    },
    {
      "cell_type": "code",
      "source": [
        "plt.plot(future_values, 'red', label = 'Real price')\n",
        "plt.plot(lr_pred, 'blue', label = 'Predicted_value')\n",
        "plt.xlabel('Time Frame')\n",
        "plt.ylabel('Price')\n",
        "plt.title('BITCOIN PREDICTION USING LINEAR REGRESSION')\n",
        "plt.legend()\n",
        "plt.show()"
      ],
      "metadata": {
        "id": "JrewxQtfl2ph"
      },
      "execution_count": null,
      "outputs": []
    },
    {
      "cell_type": "code",
      "source": [
        "plt.plot(future_values, 'red', label = 'Real price')\n",
        "plt.plot(rf_pred, 'blue', label = 'Predicted_value')\n",
        "plt.xlabel('Time Frame')\n",
        "plt.ylabel('Price')\n",
        "plt.title('BITCOIN PREDICTION USING RANDOM FOREST REGRESSOR')\n",
        "plt.legend()\n",
        "plt.show()"
      ],
      "metadata": {
        "id": "MG6UNBgkkxOo"
      },
      "execution_count": null,
      "outputs": []
    },
    {
      "cell_type": "code",
      "source": [
        "import numpy as np\n",
        "import pandas as pd\n",
        "from sklearn.linear_model import LinearRegression, Ridge, Lasso\n",
        "from sklearn.ensemble import RandomForestRegressor\n",
        "from sklearn.svm import SVR\n",
        "from sklearn.neural_network import MLPRegressor\n",
        "from sklearn.metrics import r2_score, mean_squared_error, mean_absolute_error\n",
        "from sklearn.model_selection import train_test_split\n",
        "from cryptocmd import CmcScraper\n",
        "from sklearn.utils import shuffle\n",
        "\n",
        "scraper = CmcScraper('BTC', '01-04-2013', '01-05-2023')\n",
        "#CONVERTING INTO DATAFRAMES\n",
        "data = scraper.get_dataframe()\n",
        "data.sort_values(by='Date', ascending=True, inplace=True)\n",
        "\n",
        "\n",
        "pd.set_option('display.max_columns', None)\n",
        "display(data)\n",
        "pd.reset_option('display.max_columns')\n",
        "data['date'] = pd.to_datetime(data['Date'], format='%Y-%m-%d %H:%M:%S')\n",
        "data = data.loc[:, ['date', 'Open', 'Close', 'High', 'Low']]\n",
        "data = data.rename({'Open': 'open', 'Close': 'close', 'High': 'high', 'Low': 'low'}, axis=1)\n",
        "data_indexed = data.set_index('date')\n",
        "data = data_indexed\n",
        "\n",
        "# Create features and target\n",
        "data[\"Target\"] = data[\"close\"].shift(-1)\n",
        "data.dropna(inplace=True)\n",
        "X = data.drop(\"Target\", axis=1)\n",
        "y = data[\"Target\"]\n",
        "\n",
        "# Split data into training and testing sets\n",
        "X_train, X_test, y_train, y_test = train_test_split(X, y, test_size=0.2, random_state=42)\n",
        "\n",
        "# Train and evaluate models\n",
        "models = [\n",
        "    (\"Linear Regression\", LinearRegression()),\n",
        "    (\"Ridge Regression\", Ridge()),\n",
        "    (\"Lasso Regression\", Lasso()),\n",
        "    (\"Random Forest\", RandomForestRegressor()),\n",
        "    (\"Multi-layer Perceptron\", MLPRegressor())\n",
        "]\n",
        "\n",
        "X_train, y_train, = shuffle(X_train, y_train, random_state=42)\n",
        "X_test, y_test, = shuffle(X_test, y_test, random_state=42)\n",
        "for name, model in models:\n",
        "    model.fit(X_train, y_train)\n",
        "    y_pred = model.predict(X_test)\n",
        "    acc = model.score(X_test,y_test)\n",
        "    r2 = r2_score(y_test, y_pred)\n",
        "    mse = mean_squared_error(y_test, y_pred)\n",
        "    mae = mean_absolute_error(y_test, y_pred)\n",
        "    print(f\"{name}: ACCURACY={acc:.4f},R^2={r2:.4f}, MSE={mse:.4f}, MAE={mae:.4f}\")\n"
      ],
      "metadata": {
        "id": "bae3DElVPc0o"
      },
      "execution_count": null,
      "outputs": []
    }
  ]
}